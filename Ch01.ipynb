{
 "cells": [
  {
   "cell_type": "code",
   "execution_count": 4,
   "metadata": {},
   "outputs": [],
   "source": [
    "import numpy as np"
   ]
  },
  {
   "cell_type": "code",
   "execution_count": 5,
   "metadata": {},
   "outputs": [
    {
     "name": "stdout",
     "output_type": "stream",
     "text": [
      "[1 2 3 4]\n"
     ]
    }
   ],
   "source": [
    "v1 = np.array([1,2,3,4])\n",
    "print(v1)"
   ]
  },
  {
   "cell_type": "code",
   "execution_count": 7,
   "metadata": {},
   "outputs": [
    {
     "name": "stdout",
     "output_type": "stream",
     "text": [
      "[0 1 2 3 4]\n",
      "[1 3 5 7 9]\n",
      "[3.5 5.5 7.5 9.5]\n",
      "[ 1  9 25 49 81]\n",
      "[  1  27 125 343 729]\n"
     ]
    }
   ],
   "source": [
    "v1 = np.arange(5)\n",
    "print(v1)\n",
    "\n",
    "v2 = np.arange(1,10,2, dtype=int)\n",
    "print(v2)\n",
    "\n",
    "v3 = np.arange(3.5,10.5,2, dtype=float)\n",
    "print(v3)\n",
    "\n",
    "v4 = np.arange(1,10,2)**2\n",
    "print(v4)\n",
    "\n",
    "v5 = np.arange(1,10,2)**3\n",
    "print(v5)"
   ]
  },
  {
   "cell_type": "code",
   "execution_count": 9,
   "metadata": {},
   "outputs": [
    {
     "name": "stdout",
     "output_type": "stream",
     "text": [
      "[ 0  1  2  3  4  5  6  7  8  9 10 11]\n",
      "[[ 0  1  2  3  4  5]\n",
      " [ 6  7  8  9 10 11]]\n",
      "[[ 0  2  4  6  8 10]\n",
      " [ 1  3  5  7  9 11]]\n"
     ]
    }
   ],
   "source": [
    "# 행렬\n",
    "v1 = np.arange(12)\n",
    "print(v1)\n",
    "v2 = v1.reshape(2,6)\n",
    "print(v2)\n",
    "v3 = v1.reshape(2,6, order='F')\n",
    "print(v3)"
   ]
  },
  {
   "cell_type": "code",
   "execution_count": 11,
   "metadata": {},
   "outputs": [
    {
     "name": "stdout",
     "output_type": "stream",
     "text": [
      "[[2 4]\n",
      " [6 8]]\n",
      "[[0 0]\n",
      " [0 0]]\n",
      "[[ 1  4]\n",
      " [ 9 16]]\n",
      "[[ 7 10]\n",
      " [15 22]]\n"
     ]
    }
   ],
   "source": [
    "# 행렬 계산\n",
    "v1 = np.arange(1,5).reshape(2,2)\n",
    "print(np.add(v1,v1))\n",
    "print(np.subtract(v1,v1))\n",
    "print(np.multiply(v1,v1))\n",
    "print(np.dot(v1,v1))"
   ]
  },
  {
   "cell_type": "code",
   "execution_count": 12,
   "metadata": {},
   "outputs": [
    {
     "name": "stdout",
     "output_type": "stream",
     "text": [
      "[ 0  1  2  3  4  5  6  7  8  9 10 11]\n",
      "[[[ 0  6]\n",
      "  [ 2  8]\n",
      "  [ 4 10]]\n",
      "\n",
      " [[ 1  7]\n",
      "  [ 3  9]\n",
      "  [ 5 11]]]\n"
     ]
    }
   ],
   "source": [
    "# 다차원 배열\n",
    "v1 = np.arange(12)\n",
    "print(v1)\n",
    "v2=v1.reshape(2,3,2,order='F')\n",
    "print(v2)"
   ]
  },
  {
   "cell_type": "code",
   "execution_count": 13,
   "metadata": {},
   "outputs": [
    {
     "name": "stdout",
     "output_type": "stream",
     "text": [
      "[3.5 5.5 7.5 9.5]\n",
      "[[1 2]\n",
      " [3 4]]\n",
      "9.5\n",
      "4\n",
      "float64\n",
      "int64\n"
     ]
    }
   ],
   "source": [
    "v3 = np.arange(3.5,10.5,2,dtype=float)\n",
    "print(v3)\n",
    "v4 = np.arange(1,5).reshape(2,2)\n",
    "print(v4)\n",
    "print(np.amax(v3))\n",
    "print(np.amax(v4))\n",
    "print(v3.dtype)\n",
    "print(v4.dtype)"
   ]
  },
  {
   "cell_type": "code",
   "execution_count": null,
   "metadata": {},
   "outputs": [],
   "source": []
  },
  {
   "cell_type": "code",
   "execution_count": 14,
   "metadata": {},
   "outputs": [],
   "source": [
    "import pandas as pd\n",
    "from pandas import Series,DataFrame"
   ]
  },
  {
   "cell_type": "code",
   "execution_count": 15,
   "metadata": {},
   "outputs": [
    {
     "name": "stdout",
     "output_type": "stream",
     "text": [
      "0    1\n",
      "1    3\n",
      "2    5\n",
      "3    7\n",
      "dtype: int64\n",
      "[1 3 5 7]\n",
      "RangeIndex(start=0, stop=4, step=1)\n",
      "a    1\n",
      "b    3\n",
      "c    5\n",
      "d    7\n",
      "dtype: int64\n"
     ]
    }
   ],
   "source": [
    "a = Series([1,3,5,7])\n",
    "print(a)\n",
    "print(a.values)\n",
    "print(a.index)\n",
    "\n",
    "a2 = pd.Series([1,3,5,7],index=['a','b','c','d'])\n",
    "print(a2)"
   ]
  },
  {
   "cell_type": "code",
   "execution_count": 16,
   "metadata": {},
   "outputs": [
    {
     "data": {
      "text/html": [
       "<div>\n",
       "<style scoped>\n",
       "    .dataframe tbody tr th:only-of-type {\n",
       "        vertical-align: middle;\n",
       "    }\n",
       "\n",
       "    .dataframe tbody tr th {\n",
       "        vertical-align: top;\n",
       "    }\n",
       "\n",
       "    .dataframe thead th {\n",
       "        text-align: right;\n",
       "    }\n",
       "</style>\n",
       "<table border=\"1\" class=\"dataframe\">\n",
       "  <thead>\n",
       "    <tr style=\"text-align: right;\">\n",
       "      <th></th>\n",
       "      <th>continent</th>\n",
       "      <th>brand</th>\n",
       "      <th>size</th>\n",
       "      <th>period</th>\n",
       "      <th>price</th>\n",
       "    </tr>\n",
       "  </thead>\n",
       "  <tbody>\n",
       "    <tr>\n",
       "      <td>0</td>\n",
       "      <td>2</td>\n",
       "      <td>2</td>\n",
       "      <td>10.7</td>\n",
       "      <td>47.65</td>\n",
       "      <td>144</td>\n",
       "    </tr>\n",
       "    <tr>\n",
       "      <td>1</td>\n",
       "      <td>2</td>\n",
       "      <td>3</td>\n",
       "      <td>14.0</td>\n",
       "      <td>63.13</td>\n",
       "      <td>215</td>\n",
       "    </tr>\n",
       "    <tr>\n",
       "      <td>2</td>\n",
       "      <td>2</td>\n",
       "      <td>2</td>\n",
       "      <td>9.0</td>\n",
       "      <td>58.76</td>\n",
       "      <td>105</td>\n",
       "    </tr>\n",
       "    <tr>\n",
       "      <td>3</td>\n",
       "      <td>1</td>\n",
       "      <td>1</td>\n",
       "      <td>8.0</td>\n",
       "      <td>34.88</td>\n",
       "      <td>69</td>\n",
       "    </tr>\n",
       "    <tr>\n",
       "      <td>4</td>\n",
       "      <td>2</td>\n",
       "      <td>2</td>\n",
       "      <td>10.0</td>\n",
       "      <td>55.53</td>\n",
       "      <td>134</td>\n",
       "    </tr>\n",
       "    <tr>\n",
       "      <td>...</td>\n",
       "      <td>...</td>\n",
       "      <td>...</td>\n",
       "      <td>...</td>\n",
       "      <td>...</td>\n",
       "      <td>...</td>\n",
       "    </tr>\n",
       "    <tr>\n",
       "      <td>58</td>\n",
       "      <td>1</td>\n",
       "      <td>1</td>\n",
       "      <td>5.0</td>\n",
       "      <td>16.66</td>\n",
       "      <td>21.5</td>\n",
       "    </tr>\n",
       "    <tr>\n",
       "      <td>59</td>\n",
       "      <td>2</td>\n",
       "      <td>1</td>\n",
       "      <td>21.0</td>\n",
       "      <td>43.00</td>\n",
       "      <td></td>\n",
       "    </tr>\n",
       "    <tr>\n",
       "      <td>60</td>\n",
       "      <td>2</td>\n",
       "      <td>2</td>\n",
       "      <td>5.0</td>\n",
       "      <td>12.00</td>\n",
       "      <td></td>\n",
       "    </tr>\n",
       "    <tr>\n",
       "      <td>61</td>\n",
       "      <td>2</td>\n",
       "      <td>3</td>\n",
       "      <td>13.0</td>\n",
       "      <td>20.00</td>\n",
       "      <td></td>\n",
       "    </tr>\n",
       "    <tr>\n",
       "      <td>62</td>\n",
       "      <td>2</td>\n",
       "      <td>3</td>\n",
       "      <td>31.0</td>\n",
       "      <td>19.00</td>\n",
       "      <td></td>\n",
       "    </tr>\n",
       "  </tbody>\n",
       "</table>\n",
       "<p>63 rows × 5 columns</p>\n",
       "</div>"
      ],
      "text/plain": [
       "    continent  brand  size  period price\n",
       "0           2      2  10.7   47.65   144\n",
       "1           2      3  14.0   63.13   215\n",
       "2           2      2   9.0   58.76   105\n",
       "3           1      1   8.0   34.88    69\n",
       "4           2      2  10.0   55.53   134\n",
       "..        ...    ...   ...     ...   ...\n",
       "58          1      1   5.0   16.66  21.5\n",
       "59          2      1  21.0   43.00      \n",
       "60          2      2   5.0   12.00      \n",
       "61          2      3  13.0   20.00      \n",
       "62          2      3  31.0   19.00      \n",
       "\n",
       "[63 rows x 5 columns]"
      ]
     },
     "execution_count": 16,
     "metadata": {},
     "output_type": "execute_result"
    }
   ],
   "source": [
    "df = pd.read_csv('/Users/kwonsuhyun/python/bigdata/data/EX_GrapeData.csv')\n",
    "df"
   ]
  },
  {
   "cell_type": "code",
   "execution_count": 17,
   "metadata": {},
   "outputs": [
    {
     "data": {
      "text/plain": [
       "Index(['continent', 'brand', 'size', 'period', 'price'], dtype='object')"
      ]
     },
     "execution_count": 17,
     "metadata": {},
     "output_type": "execute_result"
    }
   ],
   "source": [
    "df_columns = df.copy()\n",
    "df_columns.columns"
   ]
  },
  {
   "cell_type": "code",
   "execution_count": 21,
   "metadata": {},
   "outputs": [
    {
     "data": {
      "text/html": [
       "<div>\n",
       "<style scoped>\n",
       "    .dataframe tbody tr th:only-of-type {\n",
       "        vertical-align: middle;\n",
       "    }\n",
       "\n",
       "    .dataframe tbody tr th {\n",
       "        vertical-align: top;\n",
       "    }\n",
       "\n",
       "    .dataframe thead th {\n",
       "        text-align: right;\n",
       "    }\n",
       "</style>\n",
       "<table border=\"1\" class=\"dataframe\">\n",
       "  <thead>\n",
       "    <tr style=\"text-align: right;\">\n",
       "      <th></th>\n",
       "      <th>size</th>\n",
       "      <th>period</th>\n",
       "      <th>price</th>\n",
       "    </tr>\n",
       "  </thead>\n",
       "  <tbody>\n",
       "    <tr>\n",
       "      <td>0</td>\n",
       "      <td>10.7</td>\n",
       "      <td>47.65</td>\n",
       "      <td>144</td>\n",
       "    </tr>\n",
       "    <tr>\n",
       "      <td>1</td>\n",
       "      <td>14.0</td>\n",
       "      <td>63.13</td>\n",
       "      <td>215</td>\n",
       "    </tr>\n",
       "    <tr>\n",
       "      <td>2</td>\n",
       "      <td>9.0</td>\n",
       "      <td>58.76</td>\n",
       "      <td>105</td>\n",
       "    </tr>\n",
       "    <tr>\n",
       "      <td>3</td>\n",
       "      <td>8.0</td>\n",
       "      <td>34.88</td>\n",
       "      <td>69</td>\n",
       "    </tr>\n",
       "    <tr>\n",
       "      <td>4</td>\n",
       "      <td>10.0</td>\n",
       "      <td>55.53</td>\n",
       "      <td>134</td>\n",
       "    </tr>\n",
       "  </tbody>\n",
       "</table>\n",
       "</div>"
      ],
      "text/plain": [
       "   size  period price\n",
       "0  10.7   47.65   144\n",
       "1  14.0   63.13   215\n",
       "2   9.0   58.76   105\n",
       "3   8.0   34.88    69\n",
       "4  10.0   55.53   134"
      ]
     },
     "execution_count": 21,
     "metadata": {},
     "output_type": "execute_result"
    }
   ],
   "source": [
    "df_columns = df_columns[['size', 'period', 'price']]\n",
    "df_columns.head()"
   ]
  },
  {
   "cell_type": "code",
   "execution_count": 22,
   "metadata": {},
   "outputs": [
    {
     "name": "stderr",
     "output_type": "stream",
     "text": [
      "/Users/kwonsuhyun/opt/anaconda3/lib/python3.7/site-packages/pandas/core/frame.py:4223: SettingWithCopyWarning: \n",
      "A value is trying to be set on a copy of a slice from a DataFrame\n",
      "\n",
      "See the caveats in the documentation: http://pandas.pydata.org/pandas-docs/stable/user_guide/indexing.html#returning-a-view-versus-a-copy\n",
      "  return super().rename(**kwargs)\n"
     ]
    },
    {
     "data": {
      "text/plain": [
       "Index(['size', 'time', 'price'], dtype='object')"
      ]
     },
     "execution_count": 22,
     "metadata": {},
     "output_type": "execute_result"
    }
   ],
   "source": [
    "df_columns.rename(columns={'period':'time'},inplace=True)\n",
    "df_columns.columns"
   ]
  },
  {
   "cell_type": "code",
   "execution_count": 23,
   "metadata": {},
   "outputs": [
    {
     "name": "stderr",
     "output_type": "stream",
     "text": [
      "/Users/kwonsuhyun/opt/anaconda3/lib/python3.7/site-packages/ipykernel_launcher.py:1: SettingWithCopyWarning: \n",
      "A value is trying to be set on a copy of a slice from a DataFrame.\n",
      "Try using .loc[row_indexer,col_indexer] = value instead\n",
      "\n",
      "See the caveats in the documentation: http://pandas.pydata.org/pandas-docs/stable/user_guide/indexing.html#returning-a-view-versus-a-copy\n",
      "  \"\"\"Entry point for launching an IPython kernel.\n"
     ]
    },
    {
     "data": {
      "text/html": [
       "<div>\n",
       "<style scoped>\n",
       "    .dataframe tbody tr th:only-of-type {\n",
       "        vertical-align: middle;\n",
       "    }\n",
       "\n",
       "    .dataframe tbody tr th {\n",
       "        vertical-align: top;\n",
       "    }\n",
       "\n",
       "    .dataframe thead th {\n",
       "        text-align: right;\n",
       "    }\n",
       "</style>\n",
       "<table border=\"1\" class=\"dataframe\">\n",
       "  <thead>\n",
       "    <tr style=\"text-align: right;\">\n",
       "      <th></th>\n",
       "      <th>size</th>\n",
       "      <th>time</th>\n",
       "      <th>price</th>\n",
       "      <th>growth</th>\n",
       "    </tr>\n",
       "  </thead>\n",
       "  <tbody>\n",
       "    <tr>\n",
       "      <td>0</td>\n",
       "      <td>10.7</td>\n",
       "      <td>47.65</td>\n",
       "      <td>144</td>\n",
       "      <td>0.224554</td>\n",
       "    </tr>\n",
       "    <tr>\n",
       "      <td>1</td>\n",
       "      <td>14.0</td>\n",
       "      <td>63.13</td>\n",
       "      <td>215</td>\n",
       "      <td>0.221765</td>\n",
       "    </tr>\n",
       "    <tr>\n",
       "      <td>2</td>\n",
       "      <td>9.0</td>\n",
       "      <td>58.76</td>\n",
       "      <td>105</td>\n",
       "      <td>0.153165</td>\n",
       "    </tr>\n",
       "    <tr>\n",
       "      <td>3</td>\n",
       "      <td>8.0</td>\n",
       "      <td>34.88</td>\n",
       "      <td>69</td>\n",
       "      <td>0.229358</td>\n",
       "    </tr>\n",
       "    <tr>\n",
       "      <td>4</td>\n",
       "      <td>10.0</td>\n",
       "      <td>55.53</td>\n",
       "      <td>134</td>\n",
       "      <td>0.180083</td>\n",
       "    </tr>\n",
       "  </tbody>\n",
       "</table>\n",
       "</div>"
      ],
      "text/plain": [
       "   size   time price    growth\n",
       "0  10.7  47.65   144  0.224554\n",
       "1  14.0  63.13   215  0.221765\n",
       "2   9.0  58.76   105  0.153165\n",
       "3   8.0  34.88    69  0.229358\n",
       "4  10.0  55.53   134  0.180083"
      ]
     },
     "execution_count": 23,
     "metadata": {},
     "output_type": "execute_result"
    }
   ],
   "source": [
    "df_columns['growth'] = df_columns['size']/df_columns['time']\n",
    "df_columns.head()"
   ]
  },
  {
   "cell_type": "code",
   "execution_count": 24,
   "metadata": {},
   "outputs": [],
   "source": [
    "del df_columns['growth']"
   ]
  },
  {
   "cell_type": "code",
   "execution_count": 25,
   "metadata": {},
   "outputs": [
    {
     "data": {
      "text/html": [
       "<div>\n",
       "<style scoped>\n",
       "    .dataframe tbody tr th:only-of-type {\n",
       "        vertical-align: middle;\n",
       "    }\n",
       "\n",
       "    .dataframe tbody tr th {\n",
       "        vertical-align: top;\n",
       "    }\n",
       "\n",
       "    .dataframe thead th {\n",
       "        text-align: right;\n",
       "    }\n",
       "</style>\n",
       "<table border=\"1\" class=\"dataframe\">\n",
       "  <thead>\n",
       "    <tr style=\"text-align: right;\">\n",
       "      <th></th>\n",
       "      <th>size</th>\n",
       "      <th>time</th>\n",
       "      <th>price</th>\n",
       "    </tr>\n",
       "  </thead>\n",
       "  <tbody>\n",
       "    <tr>\n",
       "      <td>0</td>\n",
       "      <td>10.7</td>\n",
       "      <td>47.65</td>\n",
       "      <td>144</td>\n",
       "    </tr>\n",
       "    <tr>\n",
       "      <td>1</td>\n",
       "      <td>14.0</td>\n",
       "      <td>63.13</td>\n",
       "      <td>215</td>\n",
       "    </tr>\n",
       "    <tr>\n",
       "      <td>2</td>\n",
       "      <td>9.0</td>\n",
       "      <td>58.76</td>\n",
       "      <td>105</td>\n",
       "    </tr>\n",
       "    <tr>\n",
       "      <td>3</td>\n",
       "      <td>8.0</td>\n",
       "      <td>34.88</td>\n",
       "      <td>69</td>\n",
       "    </tr>\n",
       "    <tr>\n",
       "      <td>4</td>\n",
       "      <td>10.0</td>\n",
       "      <td>55.53</td>\n",
       "      <td>134</td>\n",
       "    </tr>\n",
       "    <tr>\n",
       "      <td>...</td>\n",
       "      <td>...</td>\n",
       "      <td>...</td>\n",
       "      <td>...</td>\n",
       "    </tr>\n",
       "    <tr>\n",
       "      <td>58</td>\n",
       "      <td>5.0</td>\n",
       "      <td>16.66</td>\n",
       "      <td>21.5</td>\n",
       "    </tr>\n",
       "    <tr>\n",
       "      <td>59</td>\n",
       "      <td>21.0</td>\n",
       "      <td>43.00</td>\n",
       "      <td></td>\n",
       "    </tr>\n",
       "    <tr>\n",
       "      <td>60</td>\n",
       "      <td>5.0</td>\n",
       "      <td>12.00</td>\n",
       "      <td></td>\n",
       "    </tr>\n",
       "    <tr>\n",
       "      <td>61</td>\n",
       "      <td>13.0</td>\n",
       "      <td>20.00</td>\n",
       "      <td></td>\n",
       "    </tr>\n",
       "    <tr>\n",
       "      <td>62</td>\n",
       "      <td>31.0</td>\n",
       "      <td>19.00</td>\n",
       "      <td></td>\n",
       "    </tr>\n",
       "  </tbody>\n",
       "</table>\n",
       "<p>63 rows × 3 columns</p>\n",
       "</div>"
      ],
      "text/plain": [
       "    size   time price\n",
       "0   10.7  47.65   144\n",
       "1   14.0  63.13   215\n",
       "2    9.0  58.76   105\n",
       "3    8.0  34.88    69\n",
       "4   10.0  55.53   134\n",
       "..   ...    ...   ...\n",
       "58   5.0  16.66  21.5\n",
       "59  21.0  43.00      \n",
       "60   5.0  12.00      \n",
       "61  13.0  20.00      \n",
       "62  31.0  19.00      \n",
       "\n",
       "[63 rows x 3 columns]"
      ]
     },
     "execution_count": 25,
     "metadata": {},
     "output_type": "execute_result"
    }
   ],
   "source": [
    "df_columns"
   ]
  },
  {
   "cell_type": "code",
   "execution_count": 26,
   "metadata": {},
   "outputs": [
    {
     "data": {
      "text/html": [
       "<div>\n",
       "<style scoped>\n",
       "    .dataframe tbody tr th:only-of-type {\n",
       "        vertical-align: middle;\n",
       "    }\n",
       "\n",
       "    .dataframe tbody tr th {\n",
       "        vertical-align: top;\n",
       "    }\n",
       "\n",
       "    .dataframe thead th {\n",
       "        text-align: right;\n",
       "    }\n",
       "</style>\n",
       "<table border=\"1\" class=\"dataframe\">\n",
       "  <thead>\n",
       "    <tr style=\"text-align: right;\">\n",
       "      <th></th>\n",
       "      <th>continent</th>\n",
       "      <th>brand</th>\n",
       "      <th>size</th>\n",
       "      <th>period</th>\n",
       "      <th>price</th>\n",
       "    </tr>\n",
       "  </thead>\n",
       "  <tbody>\n",
       "    <tr>\n",
       "      <td>3</td>\n",
       "      <td>1</td>\n",
       "      <td>1</td>\n",
       "      <td>8.0</td>\n",
       "      <td>34.88</td>\n",
       "      <td>69</td>\n",
       "    </tr>\n",
       "    <tr>\n",
       "      <td>11</td>\n",
       "      <td>1</td>\n",
       "      <td>1</td>\n",
       "      <td>10.4</td>\n",
       "      <td>17.67</td>\n",
       "      <td>54</td>\n",
       "    </tr>\n",
       "    <tr>\n",
       "      <td>12</td>\n",
       "      <td>1</td>\n",
       "      <td>1</td>\n",
       "      <td>7.4</td>\n",
       "      <td>16.41</td>\n",
       "      <td>39</td>\n",
       "    </tr>\n",
       "    <tr>\n",
       "      <td>13</td>\n",
       "      <td>1</td>\n",
       "      <td>1</td>\n",
       "      <td>5.4</td>\n",
       "      <td>12.02</td>\n",
       "      <td>29.5</td>\n",
       "    </tr>\n",
       "    <tr>\n",
       "      <td>16</td>\n",
       "      <td>1</td>\n",
       "      <td>1</td>\n",
       "      <td>6.0</td>\n",
       "      <td>23.21</td>\n",
       "      <td>42</td>\n",
       "    </tr>\n",
       "  </tbody>\n",
       "</table>\n",
       "</div>"
      ],
      "text/plain": [
       "    continent  brand  size  period price\n",
       "3           1      1   8.0   34.88    69\n",
       "11          1      1  10.4   17.67    54\n",
       "12          1      1   7.4   16.41    39\n",
       "13          1      1   5.4   12.02  29.5\n",
       "16          1      1   6.0   23.21    42"
      ]
     },
     "execution_count": 26,
     "metadata": {},
     "output_type": "execute_result"
    }
   ],
   "source": [
    "df_continent_brand=df[(df['continent']==1)&(df['brand']==1)]\n",
    "df_continent_brand.head()"
   ]
  },
  {
   "cell_type": "code",
   "execution_count": 31,
   "metadata": {},
   "outputs": [
    {
     "data": {
      "text/plain": [
       "2    24\n",
       "1    23\n",
       "3    16\n",
       "Name: brand, dtype: int64"
      ]
     },
     "execution_count": 31,
     "metadata": {},
     "output_type": "execute_result"
    }
   ],
   "source": [
    "df['brand'].value_counts()"
   ]
  },
  {
   "cell_type": "code",
   "execution_count": 33,
   "metadata": {},
   "outputs": [
    {
     "data": {
      "text/html": [
       "<div>\n",
       "<style scoped>\n",
       "    .dataframe tbody tr th:only-of-type {\n",
       "        vertical-align: middle;\n",
       "    }\n",
       "\n",
       "    .dataframe tbody tr th {\n",
       "        vertical-align: top;\n",
       "    }\n",
       "\n",
       "    .dataframe thead th {\n",
       "        text-align: right;\n",
       "    }\n",
       "</style>\n",
       "<table border=\"1\" class=\"dataframe\">\n",
       "  <thead>\n",
       "    <tr style=\"text-align: right;\">\n",
       "      <th></th>\n",
       "      <th>continent</th>\n",
       "      <th>brand</th>\n",
       "      <th>size</th>\n",
       "      <th>period</th>\n",
       "      <th>price</th>\n",
       "      <th>re_brand</th>\n",
       "    </tr>\n",
       "  </thead>\n",
       "  <tbody>\n",
       "    <tr>\n",
       "      <td>0</td>\n",
       "      <td>2</td>\n",
       "      <td>2</td>\n",
       "      <td>10.7</td>\n",
       "      <td>47.65</td>\n",
       "      <td>144</td>\n",
       "      <td>1</td>\n",
       "    </tr>\n",
       "    <tr>\n",
       "      <td>1</td>\n",
       "      <td>2</td>\n",
       "      <td>3</td>\n",
       "      <td>14.0</td>\n",
       "      <td>63.13</td>\n",
       "      <td>215</td>\n",
       "      <td>2</td>\n",
       "    </tr>\n",
       "    <tr>\n",
       "      <td>2</td>\n",
       "      <td>2</td>\n",
       "      <td>2</td>\n",
       "      <td>9.0</td>\n",
       "      <td>58.76</td>\n",
       "      <td>105</td>\n",
       "      <td>1</td>\n",
       "    </tr>\n",
       "    <tr>\n",
       "      <td>3</td>\n",
       "      <td>1</td>\n",
       "      <td>1</td>\n",
       "      <td>8.0</td>\n",
       "      <td>34.88</td>\n",
       "      <td>69</td>\n",
       "      <td>1</td>\n",
       "    </tr>\n",
       "    <tr>\n",
       "      <td>4</td>\n",
       "      <td>2</td>\n",
       "      <td>2</td>\n",
       "      <td>10.0</td>\n",
       "      <td>55.53</td>\n",
       "      <td>134</td>\n",
       "      <td>1</td>\n",
       "    </tr>\n",
       "  </tbody>\n",
       "</table>\n",
       "</div>"
      ],
      "text/plain": [
       "   continent  brand  size  period price  re_brand\n",
       "0          2      2  10.7   47.65   144         1\n",
       "1          2      3  14.0   63.13   215         2\n",
       "2          2      2   9.0   58.76   105         1\n",
       "3          1      1   8.0   34.88    69         1\n",
       "4          2      2  10.0   55.53   134         1"
      ]
     },
     "execution_count": 33,
     "metadata": {},
     "output_type": "execute_result"
    }
   ],
   "source": [
    "def brand_groups(series):\n",
    "    if series==1:\n",
    "        return 1\n",
    "    elif series==2:\n",
    "        return 1\n",
    "    elif series==3:\n",
    "        return 2\n",
    "\n",
    "df['re_brand']=df['brand'].apply(brand_groups)\n",
    "df.head()"
   ]
  },
  {
   "cell_type": "code",
   "execution_count": 34,
   "metadata": {},
   "outputs": [
    {
     "data": {
      "text/html": [
       "<div>\n",
       "<style scoped>\n",
       "    .dataframe tbody tr th:only-of-type {\n",
       "        vertical-align: middle;\n",
       "    }\n",
       "\n",
       "    .dataframe tbody tr th {\n",
       "        vertical-align: top;\n",
       "    }\n",
       "\n",
       "    .dataframe thead th {\n",
       "        text-align: right;\n",
       "    }\n",
       "</style>\n",
       "<table border=\"1\" class=\"dataframe\">\n",
       "  <thead>\n",
       "    <tr style=\"text-align: right;\">\n",
       "      <th></th>\n",
       "      <th>continent</th>\n",
       "      <th>brand</th>\n",
       "      <th>size</th>\n",
       "      <th>period</th>\n",
       "      <th>price</th>\n",
       "    </tr>\n",
       "  </thead>\n",
       "  <tbody>\n",
       "    <tr>\n",
       "      <td>0</td>\n",
       "      <td>2</td>\n",
       "      <td>2</td>\n",
       "      <td>10.7</td>\n",
       "      <td>47.65</td>\n",
       "      <td>144</td>\n",
       "    </tr>\n",
       "    <tr>\n",
       "      <td>1</td>\n",
       "      <td>2</td>\n",
       "      <td>3</td>\n",
       "      <td>14.0</td>\n",
       "      <td>63.13</td>\n",
       "      <td>215</td>\n",
       "    </tr>\n",
       "    <tr>\n",
       "      <td>2</td>\n",
       "      <td>2</td>\n",
       "      <td>2</td>\n",
       "      <td>9.0</td>\n",
       "      <td>58.76</td>\n",
       "      <td>105</td>\n",
       "    </tr>\n",
       "    <tr>\n",
       "      <td>3</td>\n",
       "      <td>1</td>\n",
       "      <td>1</td>\n",
       "      <td>8.0</td>\n",
       "      <td>34.88</td>\n",
       "      <td>69</td>\n",
       "    </tr>\n",
       "    <tr>\n",
       "      <td>4</td>\n",
       "      <td>2</td>\n",
       "      <td>2</td>\n",
       "      <td>10.0</td>\n",
       "      <td>55.53</td>\n",
       "      <td>134</td>\n",
       "    </tr>\n",
       "  </tbody>\n",
       "</table>\n",
       "</div>"
      ],
      "text/plain": [
       "   continent  brand  size  period price\n",
       "0          2      2  10.7   47.65   144\n",
       "1          2      3  14.0   63.13   215\n",
       "2          2      2   9.0   58.76   105\n",
       "3          1      1   8.0   34.88    69\n",
       "4          2      2  10.0   55.53   134"
      ]
     },
     "execution_count": 34,
     "metadata": {},
     "output_type": "execute_result"
    }
   ],
   "source": [
    "df = pd.read_csv('/Users/kwonsuhyun/python/bigdata/data/EX_GrapeData.csv')\n",
    "df.head()"
   ]
  },
  {
   "cell_type": "code",
   "execution_count": 35,
   "metadata": {
    "scrolled": true
   },
   "outputs": [
    {
     "data": {
      "text/plain": [
       "array([[2, 2, 10.7, 47.65, '144'],\n",
       "       [2, 3, 14.0, 63.13, '215'],\n",
       "       [2, 2, 9.0, 58.76, '105'],\n",
       "       [1, 1, 8.0, 34.88, '69'],\n",
       "       [2, 2, 10.0, 55.53, '134'],\n",
       "       [2, 2, 10.5, 43.14, '129'],\n",
       "       [2, 2, 16.0, 54.86, '155'],\n",
       "       [2, 1, 15.0, 44.14, '99'],\n",
       "       [2, 1, 6.5, 17.46, '38.5'],\n",
       "       [2, 1, 5.0, 21.04, '36.5'],\n",
       "       [2, 2, 25.0, 109.38, '260'],\n",
       "       [1, 1, 10.4, 17.67, '54'],\n",
       "       [1, 1, 7.4, 16.41, '39'],\n",
       "       [1, 1, 5.4, 12.02, '29.5'],\n",
       "       [2, 2, 15.4, 49.48, '109'],\n",
       "       [2, 1, 12.4, 48.74, '89.5'],\n",
       "       [1, 1, 6.0, 23.21, '42'],\n",
       "       [1, 1, 9.0, 28.64, '65'],\n",
       "       [1, 3, 9.0, 44.95, '115'],\n",
       "       [1, 1, 12.4, 23.77, '49.5'],\n",
       "       [1, 1, 7.5, 20.21, '36.5'],\n",
       "       [1, 3, 14.0, 32.62, '109'],\n",
       "       [1, 1, 7.0, 17.84, '45'],\n",
       "       [1, 2, 9.0, 22.82, '58'],\n",
       "       [1, 2, 12.0, 29.48, '89'],\n",
       "       [1, 1, 5.5, 15.61, '30'],\n",
       "       [1, 2, 6.0, 13.25, '31'],\n",
       "       [1, 3, 12.0, 45.78, '119'],\n",
       "       [2, 1, 5.5, 26.53, '22'],\n",
       "       [1, 3, 14.2, 37.11, '109'],\n",
       "       [2, 2, 11.0, 45.12, '99'],\n",
       "       [1, 2, 16.0, 26.09, '99'],\n",
       "       [2, 3, 13.5, 68.63, '179'],\n",
       "       [2, 2, 11.1, 33.71, '99'],\n",
       "       [2, 3, 9.8, 44.45, '89'],\n",
       "       [1, 2, 10.0, 23.74, '75'],\n",
       "       [2, 3, 13.0, 86.42, '199'],\n",
       "       [1, 3, 13.0, 39.71, '93'],\n",
       "       [1, 2, 11.7, 26.52, '65'],\n",
       "       [2, 2, 12.3, 33.89, '74'],\n",
       "       [2, 3, 19.5, 64.3, '165'],\n",
       "       [1, 3, 15.2, 22.55, '99'],\n",
       "       [1, 1, 10.0, 31.86, '43.5'],\n",
       "       [1, 3, 11.0, 53.18, '94'],\n",
       "       [2, 3, 17.8, 74.48, '189'],\n",
       "       [2, 2, 11.5, 34.16, '75'],\n",
       "       [2, 1, 12.7, 31.46, '59.5'],\n",
       "       [1, 1, 8.0, 21.34, '42'],\n",
       "       [2, 1, 7.5, 20.83, '23'],\n",
       "       [1, 2, 9.0, 20.59, '52.5'],\n",
       "       [2, 2, 14.0, 33.7, '99'],\n",
       "       [2, 2, 12.4, 32.9, '89'],\n",
       "       [2, 2, 8.8, 27.76, '65'],\n",
       "       [1, 1, 8.5, 30.2, '54.5'],\n",
       "       [1, 1, 6.0, 20.85, '24.5'],\n",
       "       [1, 2, 11.0, 26.25, '52'],\n",
       "       [1, 2, 11.1, 21.87, '62.5'],\n",
       "       [1, 3, 14.5, 23.88, '89'],\n",
       "       [1, 1, 5.0, 16.66, '21.5'],\n",
       "       [2, 1, 21.0, 43.0, ' '],\n",
       "       [2, 2, 5.0, 12.0, ' '],\n",
       "       [2, 3, 13.0, 20.0, ' '],\n",
       "       [2, 3, 31.0, 19.0, ' ']], dtype=object)"
      ]
     },
     "execution_count": 35,
     "metadata": {},
     "output_type": "execute_result"
    }
   ],
   "source": [
    "df_num = df.to_numpy()\n",
    "df_num"
   ]
  },
  {
   "cell_type": "code",
   "execution_count": 36,
   "metadata": {},
   "outputs": [
    {
     "data": {
      "text/html": [
       "<div>\n",
       "<style scoped>\n",
       "    .dataframe tbody tr th:only-of-type {\n",
       "        vertical-align: middle;\n",
       "    }\n",
       "\n",
       "    .dataframe tbody tr th {\n",
       "        vertical-align: top;\n",
       "    }\n",
       "\n",
       "    .dataframe thead th {\n",
       "        text-align: right;\n",
       "    }\n",
       "</style>\n",
       "<table border=\"1\" class=\"dataframe\">\n",
       "  <thead>\n",
       "    <tr style=\"text-align: right;\">\n",
       "      <th></th>\n",
       "      <th>0</th>\n",
       "      <th>1</th>\n",
       "      <th>2</th>\n",
       "      <th>3</th>\n",
       "      <th>4</th>\n",
       "    </tr>\n",
       "  </thead>\n",
       "  <tbody>\n",
       "    <tr>\n",
       "      <td>0</td>\n",
       "      <td>2</td>\n",
       "      <td>2</td>\n",
       "      <td>10.7</td>\n",
       "      <td>47.65</td>\n",
       "      <td>144</td>\n",
       "    </tr>\n",
       "    <tr>\n",
       "      <td>1</td>\n",
       "      <td>2</td>\n",
       "      <td>3</td>\n",
       "      <td>14</td>\n",
       "      <td>63.13</td>\n",
       "      <td>215</td>\n",
       "    </tr>\n",
       "    <tr>\n",
       "      <td>2</td>\n",
       "      <td>2</td>\n",
       "      <td>2</td>\n",
       "      <td>9</td>\n",
       "      <td>58.76</td>\n",
       "      <td>105</td>\n",
       "    </tr>\n",
       "    <tr>\n",
       "      <td>3</td>\n",
       "      <td>1</td>\n",
       "      <td>1</td>\n",
       "      <td>8</td>\n",
       "      <td>34.88</td>\n",
       "      <td>69</td>\n",
       "    </tr>\n",
       "    <tr>\n",
       "      <td>4</td>\n",
       "      <td>2</td>\n",
       "      <td>2</td>\n",
       "      <td>10</td>\n",
       "      <td>55.53</td>\n",
       "      <td>134</td>\n",
       "    </tr>\n",
       "  </tbody>\n",
       "</table>\n",
       "</div>"
      ],
      "text/plain": [
       "   0  1     2      3    4\n",
       "0  2  2  10.7  47.65  144\n",
       "1  2  3    14  63.13  215\n",
       "2  2  2     9  58.76  105\n",
       "3  1  1     8  34.88   69\n",
       "4  2  2    10  55.53  134"
      ]
     },
     "execution_count": 36,
     "metadata": {},
     "output_type": "execute_result"
    }
   ],
   "source": [
    "df_pd = pd.DataFrame(df_num)\n",
    "df_pd.head()"
   ]
  },
  {
   "cell_type": "code",
   "execution_count": 38,
   "metadata": {},
   "outputs": [
    {
     "data": {
      "text/html": [
       "<div>\n",
       "<style scoped>\n",
       "    .dataframe tbody tr th:only-of-type {\n",
       "        vertical-align: middle;\n",
       "    }\n",
       "\n",
       "    .dataframe tbody tr th {\n",
       "        vertical-align: top;\n",
       "    }\n",
       "\n",
       "    .dataframe thead th {\n",
       "        text-align: right;\n",
       "    }\n",
       "</style>\n",
       "<table border=\"1\" class=\"dataframe\">\n",
       "  <thead>\n",
       "    <tr style=\"text-align: right;\">\n",
       "      <th></th>\n",
       "      <th>con</th>\n",
       "      <th>brand</th>\n",
       "      <th>size</th>\n",
       "      <th>period</th>\n",
       "      <th>price</th>\n",
       "    </tr>\n",
       "  </thead>\n",
       "  <tbody>\n",
       "    <tr>\n",
       "      <td>0</td>\n",
       "      <td>2</td>\n",
       "      <td>2</td>\n",
       "      <td>10.7</td>\n",
       "      <td>47.65</td>\n",
       "      <td>144</td>\n",
       "    </tr>\n",
       "    <tr>\n",
       "      <td>1</td>\n",
       "      <td>2</td>\n",
       "      <td>3</td>\n",
       "      <td>14</td>\n",
       "      <td>63.13</td>\n",
       "      <td>215</td>\n",
       "    </tr>\n",
       "    <tr>\n",
       "      <td>2</td>\n",
       "      <td>2</td>\n",
       "      <td>2</td>\n",
       "      <td>9</td>\n",
       "      <td>58.76</td>\n",
       "      <td>105</td>\n",
       "    </tr>\n",
       "    <tr>\n",
       "      <td>3</td>\n",
       "      <td>1</td>\n",
       "      <td>1</td>\n",
       "      <td>8</td>\n",
       "      <td>34.88</td>\n",
       "      <td>69</td>\n",
       "    </tr>\n",
       "    <tr>\n",
       "      <td>4</td>\n",
       "      <td>2</td>\n",
       "      <td>2</td>\n",
       "      <td>10</td>\n",
       "      <td>55.53</td>\n",
       "      <td>134</td>\n",
       "    </tr>\n",
       "  </tbody>\n",
       "</table>\n",
       "</div>"
      ],
      "text/plain": [
       "  con brand  size period price\n",
       "0   2     2  10.7  47.65   144\n",
       "1   2     3    14  63.13   215\n",
       "2   2     2     9  58.76   105\n",
       "3   1     1     8  34.88    69\n",
       "4   2     2    10  55.53   134"
      ]
     },
     "execution_count": 38,
     "metadata": {},
     "output_type": "execute_result"
    }
   ],
   "source": [
    "df_pd2 = pd.DataFrame(data=df_num,columns=['con','brand','size','period','price'])\n",
    "df_pd2.head()"
   ]
  },
  {
   "cell_type": "code",
   "execution_count": null,
   "metadata": {},
   "outputs": [],
   "source": []
  }
 ],
 "metadata": {
  "kernelspec": {
   "display_name": "Python 3",
   "language": "python",
   "name": "python3"
  },
  "language_info": {
   "codemirror_mode": {
    "name": "ipython",
    "version": 3
   },
   "file_extension": ".py",
   "mimetype": "text/x-python",
   "name": "python",
   "nbconvert_exporter": "python",
   "pygments_lexer": "ipython3",
   "version": "3.7.4"
  }
 },
 "nbformat": 4,
 "nbformat_minor": 2
}
