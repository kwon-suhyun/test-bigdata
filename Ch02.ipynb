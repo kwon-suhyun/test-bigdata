{
 "cells": [
  {
   "cell_type": "code",
   "execution_count": 1,
   "metadata": {},
   "outputs": [
    {
     "name": "stdout",
     "output_type": "stream",
     "text": [
      "<class 'pandas.core.frame.DataFrame'>\n",
      "RangeIndex: 209 entries, 0 to 208\n",
      "Data columns (total 4 columns):\n",
      "salary      209 non-null int64\n",
      "sales       209 non-null float64\n",
      "roe         209 non-null float64\n",
      "industry    209 non-null int64\n",
      "dtypes: float64(2), int64(2)\n",
      "memory usage: 6.7 KB\n"
     ]
    }
   ],
   "source": [
    "import pandas as pd\n",
    "\n",
    "data = pd.read_csv('/Users/kwonsuhyun/python/bigdata/data/Ex_CEOSalary.csv')\n",
    "data.info()"
   ]
  },
  {
   "cell_type": "code",
   "execution_count": 2,
   "metadata": {},
   "outputs": [
    {
     "data": {
      "text/html": [
       "<div>\n",
       "<style scoped>\n",
       "    .dataframe tbody tr th:only-of-type {\n",
       "        vertical-align: middle;\n",
       "    }\n",
       "\n",
       "    .dataframe tbody tr th {\n",
       "        vertical-align: top;\n",
       "    }\n",
       "\n",
       "    .dataframe thead th {\n",
       "        text-align: right;\n",
       "    }\n",
       "</style>\n",
       "<table border=\"1\" class=\"dataframe\">\n",
       "  <thead>\n",
       "    <tr style=\"text-align: right;\">\n",
       "      <th></th>\n",
       "      <th>salary</th>\n",
       "      <th>sales</th>\n",
       "      <th>roe</th>\n",
       "      <th>industry</th>\n",
       "    </tr>\n",
       "  </thead>\n",
       "  <tbody>\n",
       "    <tr>\n",
       "      <td>0</td>\n",
       "      <td>1095</td>\n",
       "      <td>27595.000000</td>\n",
       "      <td>14.1</td>\n",
       "      <td>1</td>\n",
       "    </tr>\n",
       "    <tr>\n",
       "      <td>1</td>\n",
       "      <td>1001</td>\n",
       "      <td>9958.000000</td>\n",
       "      <td>10.9</td>\n",
       "      <td>1</td>\n",
       "    </tr>\n",
       "    <tr>\n",
       "      <td>2</td>\n",
       "      <td>1122</td>\n",
       "      <td>6125.899902</td>\n",
       "      <td>23.5</td>\n",
       "      <td>1</td>\n",
       "    </tr>\n",
       "    <tr>\n",
       "      <td>3</td>\n",
       "      <td>578</td>\n",
       "      <td>16246.000000</td>\n",
       "      <td>5.9</td>\n",
       "      <td>1</td>\n",
       "    </tr>\n",
       "    <tr>\n",
       "      <td>4</td>\n",
       "      <td>1368</td>\n",
       "      <td>21783.199219</td>\n",
       "      <td>13.8</td>\n",
       "      <td>1</td>\n",
       "    </tr>\n",
       "  </tbody>\n",
       "</table>\n",
       "</div>"
      ],
      "text/plain": [
       "   salary         sales   roe  industry\n",
       "0    1095  27595.000000  14.1         1\n",
       "1    1001   9958.000000  10.9         1\n",
       "2    1122   6125.899902  23.5         1\n",
       "3     578  16246.000000   5.9         1\n",
       "4    1368  21783.199219  13.8         1"
      ]
     },
     "execution_count": 2,
     "metadata": {},
     "output_type": "execute_result"
    }
   ],
   "source": [
    "data.head()"
   ]
  },
  {
   "cell_type": "code",
   "execution_count": 4,
   "metadata": {},
   "outputs": [
    {
     "data": {
      "text/plain": [
       "1    72\n",
       "3    60\n",
       "2    46\n",
       "4    31\n",
       "Name: industry, dtype: int64"
      ]
     },
     "execution_count": 4,
     "metadata": {},
     "output_type": "execute_result"
    }
   ],
   "source": [
    "data['industry'].value_counts()"
   ]
  },
  {
   "cell_type": "code",
   "execution_count": 5,
   "metadata": {},
   "outputs": [
    {
     "data": {
      "text/plain": [
       "service    72\n",
       "finance    60\n",
       "it         46\n",
       "others     31\n",
       "Name: industry, dtype: int64"
      ]
     },
     "execution_count": 5,
     "metadata": {},
     "output_type": "execute_result"
    }
   ],
   "source": [
    "data['industry'] = data['industry'].replace([1,2,3,4],['service','it','finance','others'])\n",
    "data['industry'].value_counts()"
   ]
  },
  {
   "cell_type": "code",
   "execution_count": 7,
   "metadata": {},
   "outputs": [
    {
     "data": {
      "text/plain": [
       "<matplotlib.axes._subplots.AxesSubplot at 0x7fed78d8e350>"
      ]
     },
     "execution_count": 7,
     "metadata": {},
     "output_type": "execute_result"
    },
    {
     "data": {
      "image/png": "[encoded data removed]",
      "text/plain": [
       "<Figure size 432x288 with 1 Axes>"
      ]
     },
     "metadata": {},
     "output_type": "display_data"
    }
   ],
   "source": [
    "%matplotlib inline\n",
    "data['industry'].value_counts().plot(kind='pie')"
   ]
  },
  {
   "cell_type": "code",
   "execution_count": 8,
   "metadata": {},
   "outputs": [
    {
     "data": {
      "text/plain": [
       "<matplotlib.axes._subplots.AxesSubplot at 0x7fed6a655390>"
      ]
     },
     "execution_count": 8,
     "metadata": {},
     "output_type": "execute_result"
    },
    {
     "data": {
      "image/png": "[encoded data removed]",
      "text/plain": [
       "<Figure size 432x288 with 1 Axes>"
      ]
     },
     "metadata": {
      "needs_background": "light"
     },
     "output_type": "display_data"
    }
   ],
   "source": [
    "data['industry'].value_counts().plot(kind='bar')"
   ]
  },
  {
   "cell_type": "code",
   "execution_count": 9,
   "metadata": {},
   "outputs": [
    {
     "data": {
      "text/html": [
       "<div>\n",
       "<style scoped>\n",
       "    .dataframe tbody tr th:only-of-type {\n",
       "        vertical-align: middle;\n",
       "    }\n",
       "\n",
       "    .dataframe tbody tr th {\n",
       "        vertical-align: top;\n",
       "    }\n",
       "\n",
       "    .dataframe thead th {\n",
       "        text-align: right;\n",
       "    }\n",
       "</style>\n",
       "<table border=\"1\" class=\"dataframe\">\n",
       "  <thead>\n",
       "    <tr style=\"text-align: right;\">\n",
       "      <th></th>\n",
       "      <th>salary</th>\n",
       "      <th>sales</th>\n",
       "      <th>roe</th>\n",
       "    </tr>\n",
       "  </thead>\n",
       "  <tbody>\n",
       "    <tr>\n",
       "      <td>count</td>\n",
       "      <td>209.000000</td>\n",
       "      <td>209.000000</td>\n",
       "      <td>209.000000</td>\n",
       "    </tr>\n",
       "    <tr>\n",
       "      <td>mean</td>\n",
       "      <td>1281.119617</td>\n",
       "      <td>6923.793282</td>\n",
       "      <td>17.184211</td>\n",
       "    </tr>\n",
       "    <tr>\n",
       "      <td>std</td>\n",
       "      <td>1372.345308</td>\n",
       "      <td>10633.271088</td>\n",
       "      <td>8.518509</td>\n",
       "    </tr>\n",
       "    <tr>\n",
       "      <td>min</td>\n",
       "      <td>223.000000</td>\n",
       "      <td>175.199997</td>\n",
       "      <td>0.500000</td>\n",
       "    </tr>\n",
       "    <tr>\n",
       "      <td>25%</td>\n",
       "      <td>736.000000</td>\n",
       "      <td>2210.300049</td>\n",
       "      <td>12.400000</td>\n",
       "    </tr>\n",
       "    <tr>\n",
       "      <td>50%</td>\n",
       "      <td>1039.000000</td>\n",
       "      <td>3705.199951</td>\n",
       "      <td>15.500000</td>\n",
       "    </tr>\n",
       "    <tr>\n",
       "      <td>75%</td>\n",
       "      <td>1407.000000</td>\n",
       "      <td>7177.000000</td>\n",
       "      <td>20.000000</td>\n",
       "    </tr>\n",
       "    <tr>\n",
       "      <td>max</td>\n",
       "      <td>14822.000000</td>\n",
       "      <td>97649.898438</td>\n",
       "      <td>56.299999</td>\n",
       "    </tr>\n",
       "  </tbody>\n",
       "</table>\n",
       "</div>"
      ],
      "text/plain": [
       "             salary         sales         roe\n",
       "count    209.000000    209.000000  209.000000\n",
       "mean    1281.119617   6923.793282   17.184211\n",
       "std     1372.345308  10633.271088    8.518509\n",
       "min      223.000000    175.199997    0.500000\n",
       "25%      736.000000   2210.300049   12.400000\n",
       "50%     1039.000000   3705.199951   15.500000\n",
       "75%     1407.000000   7177.000000   20.000000\n",
       "max    14822.000000  97649.898438   56.299999"
      ]
     },
     "execution_count": 9,
     "metadata": {},
     "output_type": "execute_result"
    }
   ],
   "source": [
    "data.describe()"
   ]
  },
  {
   "cell_type": "code",
   "execution_count": 10,
   "metadata": {},
   "outputs": [
    {
     "data": {
      "text/plain": [
       "salary    6.904577\n",
       "sales     5.035336\n",
       "roe       1.572126\n",
       "dtype: float64"
      ]
     },
     "execution_count": 10,
     "metadata": {},
     "output_type": "execute_result"
    }
   ],
   "source": [
    "data.skew()"
   ]
  },
  {
   "cell_type": "code",
   "execution_count": 11,
   "metadata": {},
   "outputs": [
    {
     "data": {
      "text/plain": [
       "salary    58.971229\n",
       "sales     33.115193\n",
       "roe        3.797366\n",
       "dtype: float64"
      ]
     },
     "execution_count": 11,
     "metadata": {},
     "output_type": "execute_result"
    }
   ],
   "source": [
    "data.kurtosis()"
   ]
  },
  {
   "cell_type": "code",
   "execution_count": 12,
   "metadata": {},
   "outputs": [
    {
     "data": {
      "text/plain": [
       "array([[<matplotlib.axes._subplots.AxesSubplot object at 0x7fed480321d0>,\n",
       "        <matplotlib.axes._subplots.AxesSubplot object at 0x7fed28043890>],\n",
       "       [<matplotlib.axes._subplots.AxesSubplot object at 0x7fed6a6a8ed0>,\n",
       "        <matplotlib.axes._subplots.AxesSubplot object at 0x7fed6a6e7710>]],\n",
       "      dtype=object)"
      ]
     },
     "execution_count": 12,
     "metadata": {},
     "output_type": "execute_result"
    },
    {
     "data": {
      "image/png": "[encoded data removed]",
      "text/plain": [
       "<Figure size 1440x1080 with 4 Axes>"
      ]
     },
     "metadata": {
      "needs_background": "light"
     },
     "output_type": "display_data"
    }
   ],
   "source": [
    "import matplotlib.pyplot as plt\n",
    "data.hist(bins=50,figsize=(20,15))"
   ]
  },
  {
   "cell_type": "code",
   "execution_count": 13,
   "metadata": {},
   "outputs": [
    {
     "data": {
      "text/plain": [
       "<matplotlib.axes._subplots.AxesSubplot at 0x7fed6ae0bcd0>"
      ]
     },
     "execution_count": 13,
     "metadata": {},
     "output_type": "execute_result"
    },
    {
     "data": {
      "image/png": "[encoded data removed]",
      "text/plain": [
       "<Figure size 1440x1080 with 1 Axes>"
      ]
     },
     "metadata": {
      "needs_background": "light"
     },
     "output_type": "display_data"
    }
   ],
   "source": [
    "data['salary'].hist(bins=50,figsize=(20,15))"
   ]
  },
  {
   "cell_type": "markdown",
   "metadata": {},
   "source": [
    "secsion2"
   ]
  },
  {
   "cell_type": "code",
   "execution_count": 14,
   "metadata": {},
   "outputs": [
    {
     "data": {
      "text/html": [
       "<div>\n",
       "<style scoped>\n",
       "    .dataframe tbody tr th:only-of-type {\n",
       "        vertical-align: middle;\n",
       "    }\n",
       "\n",
       "    .dataframe tbody tr th {\n",
       "        vertical-align: top;\n",
       "    }\n",
       "\n",
       "    .dataframe thead th {\n",
       "        text-align: right;\n",
       "    }\n",
       "</style>\n",
       "<table border=\"1\" class=\"dataframe\">\n",
       "  <thead>\n",
       "    <tr style=\"text-align: right;\">\n",
       "      <th></th>\n",
       "      <th>salary</th>\n",
       "      <th>sales</th>\n",
       "      <th>roe</th>\n",
       "    </tr>\n",
       "  </thead>\n",
       "  <tbody>\n",
       "    <tr>\n",
       "      <td>salary</td>\n",
       "      <td>1.000000</td>\n",
       "      <td>0.119869</td>\n",
       "      <td>0.114842</td>\n",
       "    </tr>\n",
       "    <tr>\n",
       "      <td>sales</td>\n",
       "      <td>0.119869</td>\n",
       "      <td>1.000000</td>\n",
       "      <td>-0.055386</td>\n",
       "    </tr>\n",
       "    <tr>\n",
       "      <td>roe</td>\n",
       "      <td>0.114842</td>\n",
       "      <td>-0.055386</td>\n",
       "      <td>1.000000</td>\n",
       "    </tr>\n",
       "  </tbody>\n",
       "</table>\n",
       "</div>"
      ],
      "text/plain": [
       "          salary     sales       roe\n",
       "salary  1.000000  0.119869  0.114842\n",
       "sales   0.119869  1.000000 -0.055386\n",
       "roe     0.114842 -0.055386  1.000000"
      ]
     },
     "execution_count": 14,
     "metadata": {},
     "output_type": "execute_result"
    }
   ],
   "source": [
    "data.corr()"
   ]
  },
  {
   "cell_type": "code",
   "execution_count": 15,
   "metadata": {},
   "outputs": [
    {
     "data": {
      "text/html": [
       "<div>\n",
       "<style scoped>\n",
       "    .dataframe tbody tr th:only-of-type {\n",
       "        vertical-align: middle;\n",
       "    }\n",
       "\n",
       "    .dataframe tbody tr th {\n",
       "        vertical-align: top;\n",
       "    }\n",
       "\n",
       "    .dataframe thead th {\n",
       "        text-align: right;\n",
       "    }\n",
       "</style>\n",
       "<table border=\"1\" class=\"dataframe\">\n",
       "  <thead>\n",
       "    <tr style=\"text-align: right;\">\n",
       "      <th></th>\n",
       "      <th>salary</th>\n",
       "      <th>sales</th>\n",
       "      <th>roe</th>\n",
       "    </tr>\n",
       "  </thead>\n",
       "  <tbody>\n",
       "    <tr>\n",
       "      <td>salary</td>\n",
       "      <td>1.000000</td>\n",
       "      <td>0.119869</td>\n",
       "      <td>0.114842</td>\n",
       "    </tr>\n",
       "    <tr>\n",
       "      <td>sales</td>\n",
       "      <td>0.119869</td>\n",
       "      <td>1.000000</td>\n",
       "      <td>-0.055386</td>\n",
       "    </tr>\n",
       "    <tr>\n",
       "      <td>roe</td>\n",
       "      <td>0.114842</td>\n",
       "      <td>-0.055386</td>\n",
       "      <td>1.000000</td>\n",
       "    </tr>\n",
       "  </tbody>\n",
       "</table>\n",
       "</div>"
      ],
      "text/plain": [
       "          salary     sales       roe\n",
       "salary  1.000000  0.119869  0.114842\n",
       "sales   0.119869  1.000000 -0.055386\n",
       "roe     0.114842 -0.055386  1.000000"
      ]
     },
     "execution_count": 15,
     "metadata": {},
     "output_type": "execute_result"
    }
   ],
   "source": [
    "data.corr(method='pearson')"
   ]
  },
  {
   "cell_type": "code",
   "execution_count": 16,
   "metadata": {},
   "outputs": [
    {
     "data": {
      "text/html": [
       "<div>\n",
       "<style scoped>\n",
       "    .dataframe tbody tr th:only-of-type {\n",
       "        vertical-align: middle;\n",
       "    }\n",
       "\n",
       "    .dataframe tbody tr th {\n",
       "        vertical-align: top;\n",
       "    }\n",
       "\n",
       "    .dataframe thead th {\n",
       "        text-align: right;\n",
       "    }\n",
       "</style>\n",
       "<table border=\"1\" class=\"dataframe\">\n",
       "  <thead>\n",
       "    <tr style=\"text-align: right;\">\n",
       "      <th></th>\n",
       "      <th>salary</th>\n",
       "      <th>sales</th>\n",
       "      <th>roe</th>\n",
       "    </tr>\n",
       "  </thead>\n",
       "  <tbody>\n",
       "    <tr>\n",
       "      <td>salary</td>\n",
       "      <td>1.000000</td>\n",
       "      <td>0.528016</td>\n",
       "      <td>0.205984</td>\n",
       "    </tr>\n",
       "    <tr>\n",
       "      <td>sales</td>\n",
       "      <td>0.528016</td>\n",
       "      <td>1.000000</td>\n",
       "      <td>-0.170548</td>\n",
       "    </tr>\n",
       "    <tr>\n",
       "      <td>roe</td>\n",
       "      <td>0.205984</td>\n",
       "      <td>-0.170548</td>\n",
       "      <td>1.000000</td>\n",
       "    </tr>\n",
       "  </tbody>\n",
       "</table>\n",
       "</div>"
      ],
      "text/plain": [
       "          salary     sales       roe\n",
       "salary  1.000000  0.528016  0.205984\n",
       "sales   0.528016  1.000000 -0.170548\n",
       "roe     0.205984 -0.170548  1.000000"
      ]
     },
     "execution_count": 16,
     "metadata": {},
     "output_type": "execute_result"
    }
   ],
   "source": [
    "data.corr(method='spearman')"
   ]
  },
  {
   "cell_type": "code",
   "execution_count": 17,
   "metadata": {},
   "outputs": [
    {
     "data": {
      "text/html": [
       "<div>\n",
       "<style scoped>\n",
       "    .dataframe tbody tr th:only-of-type {\n",
       "        vertical-align: middle;\n",
       "    }\n",
       "\n",
       "    .dataframe tbody tr th {\n",
       "        vertical-align: top;\n",
       "    }\n",
       "\n",
       "    .dataframe thead th {\n",
       "        text-align: right;\n",
       "    }\n",
       "</style>\n",
       "<table border=\"1\" class=\"dataframe\">\n",
       "  <thead>\n",
       "    <tr style=\"text-align: right;\">\n",
       "      <th></th>\n",
       "      <th>salary</th>\n",
       "      <th>sales</th>\n",
       "      <th>roe</th>\n",
       "    </tr>\n",
       "  </thead>\n",
       "  <tbody>\n",
       "    <tr>\n",
       "      <td>salary</td>\n",
       "      <td>1.000000</td>\n",
       "      <td>0.363921</td>\n",
       "      <td>0.143672</td>\n",
       "    </tr>\n",
       "    <tr>\n",
       "      <td>sales</td>\n",
       "      <td>0.363921</td>\n",
       "      <td>1.000000</td>\n",
       "      <td>-0.123844</td>\n",
       "    </tr>\n",
       "    <tr>\n",
       "      <td>roe</td>\n",
       "      <td>0.143672</td>\n",
       "      <td>-0.123844</td>\n",
       "      <td>1.000000</td>\n",
       "    </tr>\n",
       "  </tbody>\n",
       "</table>\n",
       "</div>"
      ],
      "text/plain": [
       "          salary     sales       roe\n",
       "salary  1.000000  0.363921  0.143672\n",
       "sales   0.363921  1.000000 -0.123844\n",
       "roe     0.143672 -0.123844  1.000000"
      ]
     },
     "execution_count": 17,
     "metadata": {},
     "output_type": "execute_result"
    }
   ],
   "source": [
    "data.corr(method='kendall')"
   ]
  },
  {
   "cell_type": "code",
   "execution_count": 18,
   "metadata": {},
   "outputs": [
    {
     "data": {
      "image/png": "[encoded data removed]",
      "text/plain": [
       "<Figure size 432x288 with 1 Axes>"
      ]
     },
     "metadata": {
      "needs_background": "light"
     },
     "output_type": "display_data"
    }
   ],
   "source": [
    "import matplotlib.pyplot as plt\n",
    "plt.scatter(data['sales'],data['salary'],alpha=0.5)\n",
    "plt.show()"
   ]
  },
  {
   "cell_type": "code",
   "execution_count": 19,
   "metadata": {},
   "outputs": [
    {
     "data": {
      "text/html": [
       "<div>\n",
       "<style scoped>\n",
       "    .dataframe tbody tr th:only-of-type {\n",
       "        vertical-align: middle;\n",
       "    }\n",
       "\n",
       "    .dataframe tbody tr th {\n",
       "        vertical-align: top;\n",
       "    }\n",
       "\n",
       "    .dataframe thead tr th {\n",
       "        text-align: left;\n",
       "    }\n",
       "\n",
       "    .dataframe thead tr:last-of-type th {\n",
       "        text-align: right;\n",
       "    }\n",
       "</style>\n",
       "<table border=\"1\" class=\"dataframe\">\n",
       "  <thead>\n",
       "    <tr>\n",
       "      <th></th>\n",
       "      <th colspan=\"8\" halign=\"left\">salary</th>\n",
       "    </tr>\n",
       "    <tr>\n",
       "      <th></th>\n",
       "      <th>count</th>\n",
       "      <th>mean</th>\n",
       "      <th>std</th>\n",
       "      <th>min</th>\n",
       "      <th>25%</th>\n",
       "      <th>50%</th>\n",
       "      <th>75%</th>\n",
       "      <th>max</th>\n",
       "    </tr>\n",
       "    <tr>\n",
       "      <th>industry</th>\n",
       "      <th></th>\n",
       "      <th></th>\n",
       "      <th></th>\n",
       "      <th></th>\n",
       "      <th></th>\n",
       "      <th></th>\n",
       "      <th></th>\n",
       "      <th></th>\n",
       "    </tr>\n",
       "  </thead>\n",
       "  <tbody>\n",
       "    <tr>\n",
       "      <td>finance</td>\n",
       "      <td>60.0</td>\n",
       "      <td>1722.416667</td>\n",
       "      <td>2242.687041</td>\n",
       "      <td>223.0</td>\n",
       "      <td>911.00</td>\n",
       "      <td>1246.0</td>\n",
       "      <td>1643.75</td>\n",
       "      <td>14822.0</td>\n",
       "    </tr>\n",
       "    <tr>\n",
       "      <td>it</td>\n",
       "      <td>46.0</td>\n",
       "      <td>1344.913043</td>\n",
       "      <td>1002.813128</td>\n",
       "      <td>441.0</td>\n",
       "      <td>884.00</td>\n",
       "      <td>1119.5</td>\n",
       "      <td>1406.00</td>\n",
       "      <td>6640.0</td>\n",
       "    </tr>\n",
       "    <tr>\n",
       "      <td>others</td>\n",
       "      <td>31.0</td>\n",
       "      <td>627.870968</td>\n",
       "      <td>175.264323</td>\n",
       "      <td>333.0</td>\n",
       "      <td>501.50</td>\n",
       "      <td>607.0</td>\n",
       "      <td>726.00</td>\n",
       "      <td>1100.0</td>\n",
       "    </tr>\n",
       "    <tr>\n",
       "      <td>service</td>\n",
       "      <td>72.0</td>\n",
       "      <td>1153.875000</td>\n",
       "      <td>563.472032</td>\n",
       "      <td>256.0</td>\n",
       "      <td>811.25</td>\n",
       "      <td>1064.0</td>\n",
       "      <td>1348.50</td>\n",
       "      <td>3844.0</td>\n",
       "    </tr>\n",
       "  </tbody>\n",
       "</table>\n",
       "</div>"
      ],
      "text/plain": [
       "         salary                                                            \\\n",
       "          count         mean          std    min     25%     50%      75%   \n",
       "industry                                                                    \n",
       "finance    60.0  1722.416667  2242.687041  223.0  911.00  1246.0  1643.75   \n",
       "it         46.0  1344.913043  1002.813128  441.0  884.00  1119.5  1406.00   \n",
       "others     31.0   627.870968   175.264323  333.0  501.50   607.0   726.00   \n",
       "service    72.0  1153.875000   563.472032  256.0  811.25  1064.0  1348.50   \n",
       "\n",
       "                   \n",
       "              max  \n",
       "industry           \n",
       "finance   14822.0  \n",
       "it         6640.0  \n",
       "others     1100.0  \n",
       "service    3844.0  "
      ]
     },
     "execution_count": 19,
     "metadata": {},
     "output_type": "execute_result"
    }
   ],
   "source": [
    "data.groupby('industry')[['salary']].describe()"
   ]
  },
  {
   "cell_type": "markdown",
   "metadata": {},
   "source": [
    "section3"
   ]
  },
  {
   "cell_type": "code",
   "execution_count": 21,
   "metadata": {},
   "outputs": [
    {
     "data": {
      "text/plain": [
       "Boxplot(ax=<matplotlib.axes._subplots.AxesSubplot object at 0x7fed6adf7490>, lines={'whiskers': [<matplotlib.lines.Line2D object at 0x7fed58046150>, <matplotlib.lines.Line2D object at 0x7fed58046690>], 'caps': [<matplotlib.lines.Line2D object at 0x7fed58046b50>, <matplotlib.lines.Line2D object at 0x7fed58030210>], 'boxes': [<matplotlib.lines.Line2D object at 0x7fed5803d490>], 'medians': [<matplotlib.lines.Line2D object at 0x7fed5804c5d0>], 'fliers': [<matplotlib.lines.Line2D object at 0x7fed5804cad0>], 'means': []})"
      ]
     },
     "execution_count": 21,
     "metadata": {},
     "output_type": "execute_result"
    },
    {
     "data": {
      "image/png": "[encoded data removed]",
      "text/plain": [
       "<Figure size 432x288 with 1 Axes>"
      ]
     },
     "metadata": {
      "needs_background": "light"
     },
     "output_type": "display_data"
    }
   ],
   "source": [
    "data.boxplot(column='salary',return_type='both')"
   ]
  },
  {
   "cell_type": "code",
   "execution_count": 22,
   "metadata": {},
   "outputs": [
    {
     "data": {
      "text/plain": [
       "671.0"
      ]
     },
     "execution_count": 22,
     "metadata": {},
     "output_type": "execute_result"
    }
   ],
   "source": [
    "q1_salary = data['salary'].quantile(q=0.25)\n",
    "q3_salary = data['salary'].quantile(q=0.75)\n",
    "iqr_salary = q3_salary - q1_salary\n",
    "iqr_salary"
   ]
  },
  {
   "cell_type": "code",
   "execution_count": 25,
   "metadata": {},
   "outputs": [
    {
     "data": {
      "text/plain": [
       "<matplotlib.axes._subplots.AxesSubplot at 0x7fed6bccae10>"
      ]
     },
     "execution_count": 25,
     "metadata": {},
     "output_type": "execute_result"
    },
    {
     "data": {
      "image/png": "[encoded data removed]",
      "text/plain": [
       "<Figure size 432x288 with 1 Axes>"
      ]
     },
     "metadata": {
      "needs_background": "light"
     },
     "output_type": "display_data"
    }
   ],
   "source": [
    "data_iqr = data[(data['salary']<q3_salary+1.5*iqr_salary) & (data['salary']>q1_salary-1.5*iqr_salary)]\n",
    "data_iqr['salary'].hist()"
   ]
  },
  {
   "cell_type": "code",
   "execution_count": 26,
   "metadata": {},
   "outputs": [
    {
     "data": {
      "text/plain": [
       "array([[<matplotlib.axes._subplots.AxesSubplot object at 0x7fed6bcb3710>,\n",
       "        <matplotlib.axes._subplots.AxesSubplot object at 0x7fed6bbead10>],\n",
       "       [<matplotlib.axes._subplots.AxesSubplot object at 0x7fed6c551f10>,\n",
       "        <matplotlib.axes._subplots.AxesSubplot object at 0x7fed6ba17cd0>]],\n",
       "      dtype=object)"
      ]
     },
     "execution_count": 26,
     "metadata": {},
     "output_type": "execute_result"
    },
    {
     "data": {
      "image/png": "[encoded data removed]",
      "text/plain": [
       "<Figure size 432x288 with 4 Axes>"
      ]
     },
     "metadata": {
      "needs_background": "light"
     },
     "output_type": "display_data"
    }
   ],
   "source": [
    "data_iqr.hist()"
   ]
  },
  {
   "cell_type": "code",
   "execution_count": 27,
   "metadata": {},
   "outputs": [
    {
     "data": {
      "text/html": [
       "<div>\n",
       "<style scoped>\n",
       "    .dataframe tbody tr th:only-of-type {\n",
       "        vertical-align: middle;\n",
       "    }\n",
       "\n",
       "    .dataframe tbody tr th {\n",
       "        vertical-align: top;\n",
       "    }\n",
       "\n",
       "    .dataframe thead th {\n",
       "        text-align: right;\n",
       "    }\n",
       "</style>\n",
       "<table border=\"1\" class=\"dataframe\">\n",
       "  <thead>\n",
       "    <tr style=\"text-align: right;\">\n",
       "      <th></th>\n",
       "      <th>salary</th>\n",
       "      <th>sales</th>\n",
       "      <th>roe</th>\n",
       "    </tr>\n",
       "  </thead>\n",
       "  <tbody>\n",
       "    <tr>\n",
       "      <td>salary</td>\n",
       "      <td>1.000000</td>\n",
       "      <td>0.335446</td>\n",
       "      <td>0.289704</td>\n",
       "    </tr>\n",
       "    <tr>\n",
       "      <td>sales</td>\n",
       "      <td>0.335446</td>\n",
       "      <td>1.000000</td>\n",
       "      <td>-0.065034</td>\n",
       "    </tr>\n",
       "    <tr>\n",
       "      <td>roe</td>\n",
       "      <td>0.289704</td>\n",
       "      <td>-0.065034</td>\n",
       "      <td>1.000000</td>\n",
       "    </tr>\n",
       "  </tbody>\n",
       "</table>\n",
       "</div>"
      ],
      "text/plain": [
       "          salary     sales       roe\n",
       "salary  1.000000  0.335446  0.289704\n",
       "sales   0.335446  1.000000 -0.065034\n",
       "roe     0.289704 -0.065034  1.000000"
      ]
     },
     "execution_count": 27,
     "metadata": {},
     "output_type": "execute_result"
    }
   ],
   "source": [
    "data_iqr.corr()"
   ]
  },
  {
   "cell_type": "code",
   "execution_count": 29,
   "metadata": {},
   "outputs": [
    {
     "data": {
      "image/png": "[encoded data removed]",
      "text/plain": [
       "<Figure size 432x288 with 1 Axes>"
      ]
     },
     "metadata": {
      "needs_background": "light"
     },
     "output_type": "display_data"
    }
   ],
   "source": [
    "import matplotlib.pyplot as plt\n",
    "plt.scatter(data_iqr['sales'],data_iqr['salary'])\n",
    "plt.show()"
   ]
  },
  {
   "cell_type": "code",
   "execution_count": 31,
   "metadata": {},
   "outputs": [
    {
     "data": {
      "text/plain": [
       "4966.6999511718695"
      ]
     },
     "execution_count": 31,
     "metadata": {},
     "output_type": "execute_result"
    }
   ],
   "source": [
    "q1_sales = data['sales'].quantile(q=0.25)\n",
    "q3_sales = data['sales'].quantile(q=0.75)\n",
    "iqr_sales = q3_sales - q1_sales\n",
    "iqr_sales"
   ]
  },
  {
   "cell_type": "code",
   "execution_count": 32,
   "metadata": {},
   "outputs": [
    {
     "data": {
      "text/plain": [
       "<matplotlib.axes._subplots.AxesSubplot at 0x7fed6bba6c10>"
      ]
     },
     "execution_count": 32,
     "metadata": {},
     "output_type": "execute_result"
    },
    {
     "data": {
      "image/png": "[encoded data removed]",
      "text/plain": [
       "<Figure size 432x288 with 1 Axes>"
      ]
     },
     "metadata": {
      "needs_background": "light"
     },
     "output_type": "display_data"
    }
   ],
   "source": [
    "data_iqr = data[(data['sales']>q1_sales-1.5*iqr_sales) & (data['sales']<q3_sales+1.5*iqr_sales) & (data['salary']>q1_salary-1.5*iqr_salary) & (data['salary']<q3_salary+1.5*iqr_salary)]\n",
    "data_iqr['sales'].hist()"
   ]
  },
  {
   "cell_type": "code",
   "execution_count": 33,
   "metadata": {},
   "outputs": [
    {
     "data": {
      "text/plain": [
       "array([[<matplotlib.axes._subplots.AxesSubplot object at 0x7fed38211e50>,\n",
       "        <matplotlib.axes._subplots.AxesSubplot object at 0x7fed6fb30210>],\n",
       "       [<matplotlib.axes._subplots.AxesSubplot object at 0x7fed280b7e10>,\n",
       "        <matplotlib.axes._subplots.AxesSubplot object at 0x7fed7b73bbd0>]],\n",
       "      dtype=object)"
      ]
     },
     "execution_count": 33,
     "metadata": {},
     "output_type": "execute_result"
    },
    {
     "data": {
      "image/png": "[encoded data removed]",
      "text/plain": [
       "<Figure size 1440x1080 with 4 Axes>"
      ]
     },
     "metadata": {
      "needs_background": "light"
     },
     "output_type": "display_data"
    }
   ],
   "source": [
    "data_iqr.hist(bins=50,figsize=(20,15))"
   ]
  },
  {
   "cell_type": "code",
   "execution_count": 34,
   "metadata": {},
   "outputs": [
    {
     "data": {
      "text/html": [
       "<div>\n",
       "<style scoped>\n",
       "    .dataframe tbody tr th:only-of-type {\n",
       "        vertical-align: middle;\n",
       "    }\n",
       "\n",
       "    .dataframe tbody tr th {\n",
       "        vertical-align: top;\n",
       "    }\n",
       "\n",
       "    .dataframe thead th {\n",
       "        text-align: right;\n",
       "    }\n",
       "</style>\n",
       "<table border=\"1\" class=\"dataframe\">\n",
       "  <thead>\n",
       "    <tr style=\"text-align: right;\">\n",
       "      <th></th>\n",
       "      <th>salary</th>\n",
       "      <th>sales</th>\n",
       "      <th>roe</th>\n",
       "    </tr>\n",
       "  </thead>\n",
       "  <tbody>\n",
       "    <tr>\n",
       "      <td>salary</td>\n",
       "      <td>1.000000</td>\n",
       "      <td>0.471278</td>\n",
       "      <td>0.299153</td>\n",
       "    </tr>\n",
       "    <tr>\n",
       "      <td>sales</td>\n",
       "      <td>0.471278</td>\n",
       "      <td>1.000000</td>\n",
       "      <td>-0.076046</td>\n",
       "    </tr>\n",
       "    <tr>\n",
       "      <td>roe</td>\n",
       "      <td>0.299153</td>\n",
       "      <td>-0.076046</td>\n",
       "      <td>1.000000</td>\n",
       "    </tr>\n",
       "  </tbody>\n",
       "</table>\n",
       "</div>"
      ],
      "text/plain": [
       "          salary     sales       roe\n",
       "salary  1.000000  0.471278  0.299153\n",
       "sales   0.471278  1.000000 -0.076046\n",
       "roe     0.299153 -0.076046  1.000000"
      ]
     },
     "execution_count": 34,
     "metadata": {},
     "output_type": "execute_result"
    }
   ],
   "source": [
    "data_iqr.corr()"
   ]
  },
  {
   "cell_type": "markdown",
   "metadata": {},
   "source": [
    "section04"
   ]
  },
  {
   "cell_type": "code",
   "execution_count": 36,
   "metadata": {},
   "outputs": [
    {
     "data": {
      "text/html": [
       "<div>\n",
       "<style scoped>\n",
       "    .dataframe tbody tr th:only-of-type {\n",
       "        vertical-align: middle;\n",
       "    }\n",
       "\n",
       "    .dataframe tbody tr th {\n",
       "        vertical-align: top;\n",
       "    }\n",
       "\n",
       "    .dataframe thead th {\n",
       "        text-align: right;\n",
       "    }\n",
       "</style>\n",
       "<table border=\"1\" class=\"dataframe\">\n",
       "  <thead>\n",
       "    <tr style=\"text-align: right;\">\n",
       "      <th></th>\n",
       "      <th>salary</th>\n",
       "      <th>sales</th>\n",
       "      <th>roe</th>\n",
       "      <th>industry</th>\n",
       "      <th>log_salary</th>\n",
       "      <th>log_sales</th>\n",
       "      <th>log_roe</th>\n",
       "    </tr>\n",
       "  </thead>\n",
       "  <tbody>\n",
       "    <tr>\n",
       "      <td>0</td>\n",
       "      <td>1095</td>\n",
       "      <td>27595.000000</td>\n",
       "      <td>14.1</td>\n",
       "      <td>service</td>\n",
       "      <td>6.998510</td>\n",
       "      <td>10.225390</td>\n",
       "      <td>2.646175</td>\n",
       "    </tr>\n",
       "    <tr>\n",
       "      <td>1</td>\n",
       "      <td>1001</td>\n",
       "      <td>9958.000000</td>\n",
       "      <td>10.9</td>\n",
       "      <td>service</td>\n",
       "      <td>6.908755</td>\n",
       "      <td>9.206132</td>\n",
       "      <td>2.388763</td>\n",
       "    </tr>\n",
       "    <tr>\n",
       "      <td>2</td>\n",
       "      <td>1122</td>\n",
       "      <td>6125.899902</td>\n",
       "      <td>23.5</td>\n",
       "      <td>service</td>\n",
       "      <td>7.022868</td>\n",
       "      <td>8.720281</td>\n",
       "      <td>3.157000</td>\n",
       "    </tr>\n",
       "    <tr>\n",
       "      <td>3</td>\n",
       "      <td>578</td>\n",
       "      <td>16246.000000</td>\n",
       "      <td>5.9</td>\n",
       "      <td>service</td>\n",
       "      <td>6.359574</td>\n",
       "      <td>9.695602</td>\n",
       "      <td>1.774952</td>\n",
       "    </tr>\n",
       "    <tr>\n",
       "      <td>4</td>\n",
       "      <td>1368</td>\n",
       "      <td>21783.199219</td>\n",
       "      <td>13.8</td>\n",
       "      <td>service</td>\n",
       "      <td>7.221105</td>\n",
       "      <td>9.988894</td>\n",
       "      <td>2.624669</td>\n",
       "    </tr>\n",
       "  </tbody>\n",
       "</table>\n",
       "</div>"
      ],
      "text/plain": [
       "   salary         sales   roe industry  log_salary  log_sales   log_roe\n",
       "0    1095  27595.000000  14.1  service    6.998510  10.225390  2.646175\n",
       "1    1001   9958.000000  10.9  service    6.908755   9.206132  2.388763\n",
       "2    1122   6125.899902  23.5  service    7.022868   8.720281  3.157000\n",
       "3     578  16246.000000   5.9  service    6.359574   9.695602  1.774952\n",
       "4    1368  21783.199219  13.8  service    7.221105   9.988894  2.624669"
      ]
     },
     "execution_count": 36,
     "metadata": {},
     "output_type": "execute_result"
    }
   ],
   "source": [
    "import numpy as np\n",
    "data['log_salary'] = np.log(data['salary'])\n",
    "data['log_sales'] = np.log(data['sales'])\n",
    "data['log_roe'] = np.log(data['roe'])\n",
    "data.head()"
   ]
  },
  {
   "cell_type": "code",
   "execution_count": 37,
   "metadata": {},
   "outputs": [
    {
     "data": {
      "text/plain": [
       "array([[<matplotlib.axes._subplots.AxesSubplot object at 0x7fed7b6e23d0>,\n",
       "        <matplotlib.axes._subplots.AxesSubplot object at 0x7fed98607d90>],\n",
       "       [<matplotlib.axes._subplots.AxesSubplot object at 0x7fed6fcf4610>,\n",
       "        <matplotlib.axes._subplots.AxesSubplot object at 0x7fed6fd27910>],\n",
       "       [<matplotlib.axes._subplots.AxesSubplot object at 0x7fed7b81a8d0>,\n",
       "        <matplotlib.axes._subplots.AxesSubplot object at 0x7fed8855c690>]],\n",
       "      dtype=object)"
      ]
     },
     "execution_count": 37,
     "metadata": {},
     "output_type": "execute_result"
    },
    {
     "data": {
      "image/png": "[encoded data removed]",
      "text/plain": [
       "<Figure size 1440x1080 with 6 Axes>"
      ]
     },
     "metadata": {
      "needs_background": "light"
     },
     "output_type": "display_data"
    }
   ],
   "source": [
    "data.hist(bins=50,figsize=(20,15))"
   ]
  },
  {
   "cell_type": "code",
   "execution_count": 38,
   "metadata": {},
   "outputs": [
    {
     "data": {
      "text/html": [
       "<div>\n",
       "<style scoped>\n",
       "    .dataframe tbody tr th:only-of-type {\n",
       "        vertical-align: middle;\n",
       "    }\n",
       "\n",
       "    .dataframe tbody tr th {\n",
       "        vertical-align: top;\n",
       "    }\n",
       "\n",
       "    .dataframe thead th {\n",
       "        text-align: right;\n",
       "    }\n",
       "</style>\n",
       "<table border=\"1\" class=\"dataframe\">\n",
       "  <thead>\n",
       "    <tr style=\"text-align: right;\">\n",
       "      <th></th>\n",
       "      <th>salary</th>\n",
       "      <th>sales</th>\n",
       "      <th>roe</th>\n",
       "      <th>log_salary</th>\n",
       "      <th>log_sales</th>\n",
       "      <th>log_roe</th>\n",
       "    </tr>\n",
       "  </thead>\n",
       "  <tbody>\n",
       "    <tr>\n",
       "      <td>salary</td>\n",
       "      <td>1.000000</td>\n",
       "      <td>0.119869</td>\n",
       "      <td>0.114842</td>\n",
       "      <td>0.794208</td>\n",
       "      <td>0.194092</td>\n",
       "      <td>0.101526</td>\n",
       "    </tr>\n",
       "    <tr>\n",
       "      <td>sales</td>\n",
       "      <td>0.119869</td>\n",
       "      <td>1.000000</td>\n",
       "      <td>-0.055386</td>\n",
       "      <td>0.281286</td>\n",
       "      <td>0.742921</td>\n",
       "      <td>-0.041004</td>\n",
       "    </tr>\n",
       "    <tr>\n",
       "      <td>roe</td>\n",
       "      <td>0.114842</td>\n",
       "      <td>-0.055386</td>\n",
       "      <td>1.000000</td>\n",
       "      <td>0.208499</td>\n",
       "      <td>-0.122553</td>\n",
       "      <td>0.873419</td>\n",
       "    </tr>\n",
       "    <tr>\n",
       "      <td>log_salary</td>\n",
       "      <td>0.794208</td>\n",
       "      <td>0.281286</td>\n",
       "      <td>0.208499</td>\n",
       "      <td>1.000000</td>\n",
       "      <td>0.459148</td>\n",
       "      <td>0.163548</td>\n",
       "    </tr>\n",
       "    <tr>\n",
       "      <td>log_sales</td>\n",
       "      <td>0.194092</td>\n",
       "      <td>0.742921</td>\n",
       "      <td>-0.122553</td>\n",
       "      <td>0.459148</td>\n",
       "      <td>1.000000</td>\n",
       "      <td>-0.120642</td>\n",
       "    </tr>\n",
       "    <tr>\n",
       "      <td>log_roe</td>\n",
       "      <td>0.101526</td>\n",
       "      <td>-0.041004</td>\n",
       "      <td>0.873419</td>\n",
       "      <td>0.163548</td>\n",
       "      <td>-0.120642</td>\n",
       "      <td>1.000000</td>\n",
       "    </tr>\n",
       "  </tbody>\n",
       "</table>\n",
       "</div>"
      ],
      "text/plain": [
       "              salary     sales       roe  log_salary  log_sales   log_roe\n",
       "salary      1.000000  0.119869  0.114842    0.794208   0.194092  0.101526\n",
       "sales       0.119869  1.000000 -0.055386    0.281286   0.742921 -0.041004\n",
       "roe         0.114842 -0.055386  1.000000    0.208499  -0.122553  0.873419\n",
       "log_salary  0.794208  0.281286  0.208499    1.000000   0.459148  0.163548\n",
       "log_sales   0.194092  0.742921 -0.122553    0.459148   1.000000 -0.120642\n",
       "log_roe     0.101526 -0.041004  0.873419    0.163548  -0.120642  1.000000"
      ]
     },
     "execution_count": 38,
     "metadata": {},
     "output_type": "execute_result"
    }
   ],
   "source": [
    "data.corr()"
   ]
  },
  {
   "cell_type": "code",
   "execution_count": 39,
   "metadata": {},
   "outputs": [
    {
     "data": {
      "text/html": [
       "<div>\n",
       "<style scoped>\n",
       "    .dataframe tbody tr th:only-of-type {\n",
       "        vertical-align: middle;\n",
       "    }\n",
       "\n",
       "    .dataframe tbody tr th {\n",
       "        vertical-align: top;\n",
       "    }\n",
       "\n",
       "    .dataframe thead th {\n",
       "        text-align: right;\n",
       "    }\n",
       "</style>\n",
       "<table border=\"1\" class=\"dataframe\">\n",
       "  <thead>\n",
       "    <tr style=\"text-align: right;\">\n",
       "      <th></th>\n",
       "      <th>salary</th>\n",
       "      <th>sales</th>\n",
       "      <th>roe</th>\n",
       "      <th>industry</th>\n",
       "      <th>log_salary</th>\n",
       "      <th>log_sales</th>\n",
       "      <th>log_roe</th>\n",
       "      <th>sqrt_salary</th>\n",
       "      <th>sqrt_sales</th>\n",
       "      <th>sqrt_roe</th>\n",
       "    </tr>\n",
       "  </thead>\n",
       "  <tbody>\n",
       "    <tr>\n",
       "      <td>0</td>\n",
       "      <td>1095</td>\n",
       "      <td>27595.000000</td>\n",
       "      <td>14.1</td>\n",
       "      <td>service</td>\n",
       "      <td>6.998510</td>\n",
       "      <td>10.225390</td>\n",
       "      <td>2.646175</td>\n",
       "      <td>33.090784</td>\n",
       "      <td>166.117428</td>\n",
       "      <td>3.754997</td>\n",
       "    </tr>\n",
       "    <tr>\n",
       "      <td>1</td>\n",
       "      <td>1001</td>\n",
       "      <td>9958.000000</td>\n",
       "      <td>10.9</td>\n",
       "      <td>service</td>\n",
       "      <td>6.908755</td>\n",
       "      <td>9.206132</td>\n",
       "      <td>2.388763</td>\n",
       "      <td>31.638584</td>\n",
       "      <td>99.789779</td>\n",
       "      <td>3.301515</td>\n",
       "    </tr>\n",
       "    <tr>\n",
       "      <td>2</td>\n",
       "      <td>1122</td>\n",
       "      <td>6125.899902</td>\n",
       "      <td>23.5</td>\n",
       "      <td>service</td>\n",
       "      <td>7.022868</td>\n",
       "      <td>8.720281</td>\n",
       "      <td>3.157000</td>\n",
       "      <td>33.496268</td>\n",
       "      <td>78.268128</td>\n",
       "      <td>4.847680</td>\n",
       "    </tr>\n",
       "    <tr>\n",
       "      <td>3</td>\n",
       "      <td>578</td>\n",
       "      <td>16246.000000</td>\n",
       "      <td>5.9</td>\n",
       "      <td>service</td>\n",
       "      <td>6.359574</td>\n",
       "      <td>9.695602</td>\n",
       "      <td>1.774952</td>\n",
       "      <td>24.041631</td>\n",
       "      <td>127.459798</td>\n",
       "      <td>2.428992</td>\n",
       "    </tr>\n",
       "    <tr>\n",
       "      <td>4</td>\n",
       "      <td>1368</td>\n",
       "      <td>21783.199219</td>\n",
       "      <td>13.8</td>\n",
       "      <td>service</td>\n",
       "      <td>7.221105</td>\n",
       "      <td>9.988894</td>\n",
       "      <td>2.624669</td>\n",
       "      <td>36.986484</td>\n",
       "      <td>147.591325</td>\n",
       "      <td>3.714835</td>\n",
       "    </tr>\n",
       "  </tbody>\n",
       "</table>\n",
       "</div>"
      ],
      "text/plain": [
       "   salary         sales   roe industry  log_salary  log_sales   log_roe  \\\n",
       "0    1095  27595.000000  14.1  service    6.998510  10.225390  2.646175   \n",
       "1    1001   9958.000000  10.9  service    6.908755   9.206132  2.388763   \n",
       "2    1122   6125.899902  23.5  service    7.022868   8.720281  3.157000   \n",
       "3     578  16246.000000   5.9  service    6.359574   9.695602  1.774952   \n",
       "4    1368  21783.199219  13.8  service    7.221105   9.988894  2.624669   \n",
       "\n",
       "   sqrt_salary  sqrt_sales  sqrt_roe  \n",
       "0    33.090784  166.117428  3.754997  \n",
       "1    31.638584   99.789779  3.301515  \n",
       "2    33.496268   78.268128  4.847680  \n",
       "3    24.041631  127.459798  2.428992  \n",
       "4    36.986484  147.591325  3.714835  "
      ]
     },
     "execution_count": 39,
     "metadata": {},
     "output_type": "execute_result"
    }
   ],
   "source": [
    "data['sqrt_salary'] = np.sqrt(data['salary'])\n",
    "data['sqrt_sales'] = np.sqrt(data['sales'])\n",
    "data['sqrt_roe'] = np.sqrt(data['roe'])\n",
    "data.head()"
   ]
  },
  {
   "cell_type": "code",
   "execution_count": 40,
   "metadata": {},
   "outputs": [
    {
     "data": {
      "text/plain": [
       "array([[<matplotlib.axes._subplots.AxesSubplot object at 0x7fed7c30ad10>,\n",
       "        <matplotlib.axes._subplots.AxesSubplot object at 0x7fed98665ad0>,\n",
       "        <matplotlib.axes._subplots.AxesSubplot object at 0x7fed9867ce10>],\n",
       "       [<matplotlib.axes._subplots.AxesSubplot object at 0x7fed6fd82ad0>,\n",
       "        <matplotlib.axes._subplots.AxesSubplot object at 0x7fed88926e50>,\n",
       "        <matplotlib.axes._subplots.AxesSubplot object at 0x7fed8895cb10>],\n",
       "       [<matplotlib.axes._subplots.AxesSubplot object at 0x7fed88999f90>,\n",
       "        <matplotlib.axes._subplots.AxesSubplot object at 0x7fed889d0b50>,\n",
       "        <matplotlib.axes._subplots.AxesSubplot object at 0x7fed889d96d0>]],\n",
       "      dtype=object)"
      ]
     },
     "execution_count": 40,
     "metadata": {},
     "output_type": "execute_result"
    },
    {
     "data": {
      "image/png": "[encoded data removed]",
      "text/plain": [
       "<Figure size 1440x1080 with 9 Axes>"
      ]
     },
     "metadata": {
      "needs_background": "light"
     },
     "output_type": "display_data"
    }
   ],
   "source": [
    "data.hist(bins=50,figsize=(20,15))"
   ]
  },
  {
   "cell_type": "code",
   "execution_count": 41,
   "metadata": {},
   "outputs": [
    {
     "data": {
      "text/html": [
       "<div>\n",
       "<style scoped>\n",
       "    .dataframe tbody tr th:only-of-type {\n",
       "        vertical-align: middle;\n",
       "    }\n",
       "\n",
       "    .dataframe tbody tr th {\n",
       "        vertical-align: top;\n",
       "    }\n",
       "\n",
       "    .dataframe thead th {\n",
       "        text-align: right;\n",
       "    }\n",
       "</style>\n",
       "<table border=\"1\" class=\"dataframe\">\n",
       "  <thead>\n",
       "    <tr style=\"text-align: right;\">\n",
       "      <th></th>\n",
       "      <th>salary</th>\n",
       "      <th>sales</th>\n",
       "      <th>roe</th>\n",
       "      <th>log_salary</th>\n",
       "      <th>log_sales</th>\n",
       "      <th>log_roe</th>\n",
       "      <th>sqrt_salary</th>\n",
       "      <th>sqrt_sales</th>\n",
       "      <th>sqrt_roe</th>\n",
       "    </tr>\n",
       "  </thead>\n",
       "  <tbody>\n",
       "    <tr>\n",
       "      <td>salary</td>\n",
       "      <td>1.000000</td>\n",
       "      <td>0.119869</td>\n",
       "      <td>0.114842</td>\n",
       "      <td>0.794208</td>\n",
       "      <td>0.194092</td>\n",
       "      <td>0.101526</td>\n",
       "      <td>0.945732</td>\n",
       "      <td>0.164340</td>\n",
       "      <td>0.115219</td>\n",
       "    </tr>\n",
       "    <tr>\n",
       "      <td>sales</td>\n",
       "      <td>0.119869</td>\n",
       "      <td>1.000000</td>\n",
       "      <td>-0.055386</td>\n",
       "      <td>0.281286</td>\n",
       "      <td>0.742921</td>\n",
       "      <td>-0.041004</td>\n",
       "      <td>0.215716</td>\n",
       "      <td>0.936282</td>\n",
       "      <td>-0.050538</td>\n",
       "    </tr>\n",
       "    <tr>\n",
       "      <td>roe</td>\n",
       "      <td>0.114842</td>\n",
       "      <td>-0.055386</td>\n",
       "      <td>1.000000</td>\n",
       "      <td>0.208499</td>\n",
       "      <td>-0.122553</td>\n",
       "      <td>0.873419</td>\n",
       "      <td>0.172327</td>\n",
       "      <td>-0.087687</td>\n",
       "      <td>0.977012</td>\n",
       "    </tr>\n",
       "    <tr>\n",
       "      <td>log_salary</td>\n",
       "      <td>0.794208</td>\n",
       "      <td>0.281286</td>\n",
       "      <td>0.208499</td>\n",
       "      <td>1.000000</td>\n",
       "      <td>0.459148</td>\n",
       "      <td>0.163548</td>\n",
       "      <td>0.946014</td>\n",
       "      <td>0.386456</td>\n",
       "      <td>0.197914</td>\n",
       "    </tr>\n",
       "    <tr>\n",
       "      <td>log_sales</td>\n",
       "      <td>0.194092</td>\n",
       "      <td>0.742921</td>\n",
       "      <td>-0.122553</td>\n",
       "      <td>0.459148</td>\n",
       "      <td>1.000000</td>\n",
       "      <td>-0.120642</td>\n",
       "      <td>0.342422</td>\n",
       "      <td>0.920797</td>\n",
       "      <td>-0.129020</td>\n",
       "    </tr>\n",
       "    <tr>\n",
       "      <td>log_roe</td>\n",
       "      <td>0.101526</td>\n",
       "      <td>-0.041004</td>\n",
       "      <td>0.873419</td>\n",
       "      <td>0.163548</td>\n",
       "      <td>-0.120642</td>\n",
       "      <td>1.000000</td>\n",
       "      <td>0.139470</td>\n",
       "      <td>-0.083308</td>\n",
       "      <td>0.953806</td>\n",
       "    </tr>\n",
       "    <tr>\n",
       "      <td>sqrt_salary</td>\n",
       "      <td>0.945732</td>\n",
       "      <td>0.215716</td>\n",
       "      <td>0.172327</td>\n",
       "      <td>0.946014</td>\n",
       "      <td>0.342422</td>\n",
       "      <td>0.139470</td>\n",
       "      <td>1.000000</td>\n",
       "      <td>0.293173</td>\n",
       "      <td>0.165932</td>\n",
       "    </tr>\n",
       "    <tr>\n",
       "      <td>sqrt_sales</td>\n",
       "      <td>0.164340</td>\n",
       "      <td>0.936282</td>\n",
       "      <td>-0.087687</td>\n",
       "      <td>0.386456</td>\n",
       "      <td>0.920797</td>\n",
       "      <td>-0.083308</td>\n",
       "      <td>0.293173</td>\n",
       "      <td>1.000000</td>\n",
       "      <td>-0.089501</td>\n",
       "    </tr>\n",
       "    <tr>\n",
       "      <td>sqrt_roe</td>\n",
       "      <td>0.115219</td>\n",
       "      <td>-0.050538</td>\n",
       "      <td>0.977012</td>\n",
       "      <td>0.197914</td>\n",
       "      <td>-0.129020</td>\n",
       "      <td>0.953806</td>\n",
       "      <td>0.165932</td>\n",
       "      <td>-0.089501</td>\n",
       "      <td>1.000000</td>\n",
       "    </tr>\n",
       "  </tbody>\n",
       "</table>\n",
       "</div>"
      ],
      "text/plain": [
       "               salary     sales       roe  log_salary  log_sales   log_roe  \\\n",
       "salary       1.000000  0.119869  0.114842    0.794208   0.194092  0.101526   \n",
       "sales        0.119869  1.000000 -0.055386    0.281286   0.742921 -0.041004   \n",
       "roe          0.114842 -0.055386  1.000000    0.208499  -0.122553  0.873419   \n",
       "log_salary   0.794208  0.281286  0.208499    1.000000   0.459148  0.163548   \n",
       "log_sales    0.194092  0.742921 -0.122553    0.459148   1.000000 -0.120642   \n",
       "log_roe      0.101526 -0.041004  0.873419    0.163548  -0.120642  1.000000   \n",
       "sqrt_salary  0.945732  0.215716  0.172327    0.946014   0.342422  0.139470   \n",
       "sqrt_sales   0.164340  0.936282 -0.087687    0.386456   0.920797 -0.083308   \n",
       "sqrt_roe     0.115219 -0.050538  0.977012    0.197914  -0.129020  0.953806   \n",
       "\n",
       "             sqrt_salary  sqrt_sales  sqrt_roe  \n",
       "salary          0.945732    0.164340  0.115219  \n",
       "sales           0.215716    0.936282 -0.050538  \n",
       "roe             0.172327   -0.087687  0.977012  \n",
       "log_salary      0.946014    0.386456  0.197914  \n",
       "log_sales       0.342422    0.920797 -0.129020  \n",
       "log_roe         0.139470   -0.083308  0.953806  \n",
       "sqrt_salary     1.000000    0.293173  0.165932  \n",
       "sqrt_sales      0.293173    1.000000 -0.089501  \n",
       "sqrt_roe        0.165932   -0.089501  1.000000  "
      ]
     },
     "execution_count": 41,
     "metadata": {},
     "output_type": "execute_result"
    }
   ],
   "source": [
    "data.corr()"
   ]
  },
  {
   "cell_type": "markdown",
   "metadata": {},
   "source": [
    "section05"
   ]
  },
  {
   "cell_type": "code",
   "execution_count": 43,
   "metadata": {},
   "outputs": [
    {
     "data": {
      "text/html": [
       "<div>\n",
       "<style scoped>\n",
       "    .dataframe tbody tr th:only-of-type {\n",
       "        vertical-align: middle;\n",
       "    }\n",
       "\n",
       "    .dataframe tbody tr th {\n",
       "        vertical-align: top;\n",
       "    }\n",
       "\n",
       "    .dataframe thead th {\n",
       "        text-align: right;\n",
       "    }\n",
       "</style>\n",
       "<table border=\"1\" class=\"dataframe\">\n",
       "  <thead>\n",
       "    <tr style=\"text-align: right;\">\n",
       "      <th></th>\n",
       "      <th>salary</th>\n",
       "      <th>sales</th>\n",
       "      <th>roe</th>\n",
       "      <th>industry</th>\n",
       "    </tr>\n",
       "  </thead>\n",
       "  <tbody>\n",
       "    <tr>\n",
       "      <td>0</td>\n",
       "      <td>1095.0</td>\n",
       "      <td>27595.000000</td>\n",
       "      <td>14.100000</td>\n",
       "      <td>1</td>\n",
       "    </tr>\n",
       "    <tr>\n",
       "      <td>1</td>\n",
       "      <td>NaN</td>\n",
       "      <td>9958.000000</td>\n",
       "      <td>10.900000</td>\n",
       "      <td>1</td>\n",
       "    </tr>\n",
       "    <tr>\n",
       "      <td>2</td>\n",
       "      <td>NaN</td>\n",
       "      <td>6125.899902</td>\n",
       "      <td>23.500000</td>\n",
       "      <td>1</td>\n",
       "    </tr>\n",
       "    <tr>\n",
       "      <td>3</td>\n",
       "      <td>578.0</td>\n",
       "      <td>16246.000000</td>\n",
       "      <td>5.900000</td>\n",
       "      <td>1</td>\n",
       "    </tr>\n",
       "    <tr>\n",
       "      <td>4</td>\n",
       "      <td>1368.0</td>\n",
       "      <td>NaN</td>\n",
       "      <td>13.800000</td>\n",
       "      <td>1</td>\n",
       "    </tr>\n",
       "    <tr>\n",
       "      <td>5</td>\n",
       "      <td>1145.0</td>\n",
       "      <td>NaN</td>\n",
       "      <td>20.000000</td>\n",
       "      <td>2</td>\n",
       "    </tr>\n",
       "    <tr>\n",
       "      <td>6</td>\n",
       "      <td>1078.0</td>\n",
       "      <td>2266.699951</td>\n",
       "      <td>16.400000</td>\n",
       "      <td>2</td>\n",
       "    </tr>\n",
       "    <tr>\n",
       "      <td>7</td>\n",
       "      <td>1094.0</td>\n",
       "      <td>2966.800049</td>\n",
       "      <td>16.299999</td>\n",
       "      <td>2</td>\n",
       "    </tr>\n",
       "    <tr>\n",
       "      <td>8</td>\n",
       "      <td>1237.0</td>\n",
       "      <td>4570.200195</td>\n",
       "      <td>10.500000</td>\n",
       "      <td>2</td>\n",
       "    </tr>\n",
       "    <tr>\n",
       "      <td>9</td>\n",
       "      <td>833.0</td>\n",
       "      <td>2830.000000</td>\n",
       "      <td>NaN</td>\n",
       "      <td>2</td>\n",
       "    </tr>\n",
       "  </tbody>\n",
       "</table>\n",
       "</div>"
      ],
      "text/plain": [
       "   salary         sales        roe  industry\n",
       "0  1095.0  27595.000000  14.100000         1\n",
       "1     NaN   9958.000000  10.900000         1\n",
       "2     NaN   6125.899902  23.500000         1\n",
       "3   578.0  16246.000000   5.900000         1\n",
       "4  1368.0           NaN  13.800000         1\n",
       "5  1145.0           NaN  20.000000         2\n",
       "6  1078.0   2266.699951  16.400000         2\n",
       "7  1094.0   2966.800049  16.299999         2\n",
       "8  1237.0   4570.200195  10.500000         2\n",
       "9   833.0   2830.000000        NaN         2"
      ]
     },
     "execution_count": 43,
     "metadata": {},
     "output_type": "execute_result"
    }
   ],
   "source": [
    "data = pd.read_csv('/Users/kwonsuhyun/python/bigdata/data/Ex_Missing.csv')\n",
    "data"
   ]
  },
  {
   "cell_type": "code",
   "execution_count": 44,
   "metadata": {},
   "outputs": [
    {
     "data": {
      "text/html": [
       "<div>\n",
       "<style scoped>\n",
       "    .dataframe tbody tr th:only-of-type {\n",
       "        vertical-align: middle;\n",
       "    }\n",
       "\n",
       "    .dataframe tbody tr th {\n",
       "        vertical-align: top;\n",
       "    }\n",
       "\n",
       "    .dataframe thead th {\n",
       "        text-align: right;\n",
       "    }\n",
       "</style>\n",
       "<table border=\"1\" class=\"dataframe\">\n",
       "  <thead>\n",
       "    <tr style=\"text-align: right;\">\n",
       "      <th></th>\n",
       "      <th>salary</th>\n",
       "      <th>sales</th>\n",
       "      <th>roe</th>\n",
       "      <th>industry</th>\n",
       "    </tr>\n",
       "  </thead>\n",
       "  <tbody>\n",
       "    <tr>\n",
       "      <td>0</td>\n",
       "      <td>False</td>\n",
       "      <td>False</td>\n",
       "      <td>False</td>\n",
       "      <td>False</td>\n",
       "    </tr>\n",
       "    <tr>\n",
       "      <td>1</td>\n",
       "      <td>True</td>\n",
       "      <td>False</td>\n",
       "      <td>False</td>\n",
       "      <td>False</td>\n",
       "    </tr>\n",
       "    <tr>\n",
       "      <td>2</td>\n",
       "      <td>True</td>\n",
       "      <td>False</td>\n",
       "      <td>False</td>\n",
       "      <td>False</td>\n",
       "    </tr>\n",
       "    <tr>\n",
       "      <td>3</td>\n",
       "      <td>False</td>\n",
       "      <td>False</td>\n",
       "      <td>False</td>\n",
       "      <td>False</td>\n",
       "    </tr>\n",
       "    <tr>\n",
       "      <td>4</td>\n",
       "      <td>False</td>\n",
       "      <td>True</td>\n",
       "      <td>False</td>\n",
       "      <td>False</td>\n",
       "    </tr>\n",
       "    <tr>\n",
       "      <td>5</td>\n",
       "      <td>False</td>\n",
       "      <td>True</td>\n",
       "      <td>False</td>\n",
       "      <td>False</td>\n",
       "    </tr>\n",
       "    <tr>\n",
       "      <td>6</td>\n",
       "      <td>False</td>\n",
       "      <td>False</td>\n",
       "      <td>False</td>\n",
       "      <td>False</td>\n",
       "    </tr>\n",
       "    <tr>\n",
       "      <td>7</td>\n",
       "      <td>False</td>\n",
       "      <td>False</td>\n",
       "      <td>False</td>\n",
       "      <td>False</td>\n",
       "    </tr>\n",
       "    <tr>\n",
       "      <td>8</td>\n",
       "      <td>False</td>\n",
       "      <td>False</td>\n",
       "      <td>False</td>\n",
       "      <td>False</td>\n",
       "    </tr>\n",
       "    <tr>\n",
       "      <td>9</td>\n",
       "      <td>False</td>\n",
       "      <td>False</td>\n",
       "      <td>True</td>\n",
       "      <td>False</td>\n",
       "    </tr>\n",
       "  </tbody>\n",
       "</table>\n",
       "</div>"
      ],
      "text/plain": [
       "   salary  sales    roe  industry\n",
       "0   False  False  False     False\n",
       "1    True  False  False     False\n",
       "2    True  False  False     False\n",
       "3   False  False  False     False\n",
       "4   False   True  False     False\n",
       "5   False   True  False     False\n",
       "6   False  False  False     False\n",
       "7   False  False  False     False\n",
       "8   False  False  False     False\n",
       "9   False  False   True     False"
      ]
     },
     "execution_count": 44,
     "metadata": {},
     "output_type": "execute_result"
    }
   ],
   "source": [
    "data.isnull()"
   ]
  },
  {
   "cell_type": "code",
   "execution_count": 45,
   "metadata": {},
   "outputs": [
    {
     "data": {
      "text/html": [
       "<div>\n",
       "<style scoped>\n",
       "    .dataframe tbody tr th:only-of-type {\n",
       "        vertical-align: middle;\n",
       "    }\n",
       "\n",
       "    .dataframe tbody tr th {\n",
       "        vertical-align: top;\n",
       "    }\n",
       "\n",
       "    .dataframe thead th {\n",
       "        text-align: right;\n",
       "    }\n",
       "</style>\n",
       "<table border=\"1\" class=\"dataframe\">\n",
       "  <thead>\n",
       "    <tr style=\"text-align: right;\">\n",
       "      <th></th>\n",
       "      <th>salary</th>\n",
       "      <th>sales</th>\n",
       "      <th>roe</th>\n",
       "      <th>industry</th>\n",
       "    </tr>\n",
       "  </thead>\n",
       "  <tbody>\n",
       "    <tr>\n",
       "      <td>0</td>\n",
       "      <td>True</td>\n",
       "      <td>True</td>\n",
       "      <td>True</td>\n",
       "      <td>True</td>\n",
       "    </tr>\n",
       "    <tr>\n",
       "      <td>1</td>\n",
       "      <td>False</td>\n",
       "      <td>True</td>\n",
       "      <td>True</td>\n",
       "      <td>True</td>\n",
       "    </tr>\n",
       "    <tr>\n",
       "      <td>2</td>\n",
       "      <td>False</td>\n",
       "      <td>True</td>\n",
       "      <td>True</td>\n",
       "      <td>True</td>\n",
       "    </tr>\n",
       "    <tr>\n",
       "      <td>3</td>\n",
       "      <td>True</td>\n",
       "      <td>True</td>\n",
       "      <td>True</td>\n",
       "      <td>True</td>\n",
       "    </tr>\n",
       "    <tr>\n",
       "      <td>4</td>\n",
       "      <td>True</td>\n",
       "      <td>False</td>\n",
       "      <td>True</td>\n",
       "      <td>True</td>\n",
       "    </tr>\n",
       "    <tr>\n",
       "      <td>5</td>\n",
       "      <td>True</td>\n",
       "      <td>False</td>\n",
       "      <td>True</td>\n",
       "      <td>True</td>\n",
       "    </tr>\n",
       "    <tr>\n",
       "      <td>6</td>\n",
       "      <td>True</td>\n",
       "      <td>True</td>\n",
       "      <td>True</td>\n",
       "      <td>True</td>\n",
       "    </tr>\n",
       "    <tr>\n",
       "      <td>7</td>\n",
       "      <td>True</td>\n",
       "      <td>True</td>\n",
       "      <td>True</td>\n",
       "      <td>True</td>\n",
       "    </tr>\n",
       "    <tr>\n",
       "      <td>8</td>\n",
       "      <td>True</td>\n",
       "      <td>True</td>\n",
       "      <td>True</td>\n",
       "      <td>True</td>\n",
       "    </tr>\n",
       "    <tr>\n",
       "      <td>9</td>\n",
       "      <td>True</td>\n",
       "      <td>True</td>\n",
       "      <td>False</td>\n",
       "      <td>True</td>\n",
       "    </tr>\n",
       "  </tbody>\n",
       "</table>\n",
       "</div>"
      ],
      "text/plain": [
       "   salary  sales    roe  industry\n",
       "0    True   True   True      True\n",
       "1   False   True   True      True\n",
       "2   False   True   True      True\n",
       "3    True   True   True      True\n",
       "4    True  False   True      True\n",
       "5    True  False   True      True\n",
       "6    True   True   True      True\n",
       "7    True   True   True      True\n",
       "8    True   True   True      True\n",
       "9    True   True  False      True"
      ]
     },
     "execution_count": 45,
     "metadata": {},
     "output_type": "execute_result"
    }
   ],
   "source": [
    "data.notnull()"
   ]
  },
  {
   "cell_type": "code",
   "execution_count": 46,
   "metadata": {},
   "outputs": [
    {
     "data": {
      "text/plain": [
       "salary      2\n",
       "sales       2\n",
       "roe         1\n",
       "industry    0\n",
       "dtype: int64"
      ]
     },
     "execution_count": 46,
     "metadata": {},
     "output_type": "execute_result"
    }
   ],
   "source": [
    "data.isnull().sum()"
   ]
  },
  {
   "cell_type": "code",
   "execution_count": 47,
   "metadata": {},
   "outputs": [
    {
     "data": {
      "text/plain": [
       "salary       8\n",
       "sales        8\n",
       "roe          9\n",
       "industry    10\n",
       "dtype: int64"
      ]
     },
     "execution_count": 47,
     "metadata": {},
     "output_type": "execute_result"
    }
   ],
   "source": [
    "data.notnull().sum()"
   ]
  },
  {
   "cell_type": "code",
   "execution_count": 48,
   "metadata": {},
   "outputs": [
    {
     "data": {
      "text/plain": [
       "0    0\n",
       "1    1\n",
       "2    1\n",
       "3    0\n",
       "4    1\n",
       "5    1\n",
       "6    0\n",
       "7    0\n",
       "8    0\n",
       "9    1\n",
       "dtype: int64"
      ]
     },
     "execution_count": 48,
     "metadata": {},
     "output_type": "execute_result"
    }
   ],
   "source": [
    "data.isnull().sum(1)"
   ]
  },
  {
   "cell_type": "code",
   "execution_count": 49,
   "metadata": {},
   "outputs": [],
   "source": [
    "data['valid'] = data.notnull().sum(1)"
   ]
  },
  {
   "cell_type": "code",
   "execution_count": 50,
   "metadata": {},
   "outputs": [
    {
     "data": {
      "text/html": [
       "<div>\n",
       "<style scoped>\n",
       "    .dataframe tbody tr th:only-of-type {\n",
       "        vertical-align: middle;\n",
       "    }\n",
       "\n",
       "    .dataframe tbody tr th {\n",
       "        vertical-align: top;\n",
       "    }\n",
       "\n",
       "    .dataframe thead th {\n",
       "        text-align: right;\n",
       "    }\n",
       "</style>\n",
       "<table border=\"1\" class=\"dataframe\">\n",
       "  <thead>\n",
       "    <tr style=\"text-align: right;\">\n",
       "      <th></th>\n",
       "      <th>salary</th>\n",
       "      <th>sales</th>\n",
       "      <th>roe</th>\n",
       "      <th>industry</th>\n",
       "      <th>valid</th>\n",
       "    </tr>\n",
       "  </thead>\n",
       "  <tbody>\n",
       "    <tr>\n",
       "      <td>0</td>\n",
       "      <td>1095.0</td>\n",
       "      <td>27595.000000</td>\n",
       "      <td>14.100000</td>\n",
       "      <td>1</td>\n",
       "      <td>4</td>\n",
       "    </tr>\n",
       "    <tr>\n",
       "      <td>1</td>\n",
       "      <td>NaN</td>\n",
       "      <td>9958.000000</td>\n",
       "      <td>10.900000</td>\n",
       "      <td>1</td>\n",
       "      <td>3</td>\n",
       "    </tr>\n",
       "    <tr>\n",
       "      <td>2</td>\n",
       "      <td>NaN</td>\n",
       "      <td>6125.899902</td>\n",
       "      <td>23.500000</td>\n",
       "      <td>1</td>\n",
       "      <td>3</td>\n",
       "    </tr>\n",
       "    <tr>\n",
       "      <td>3</td>\n",
       "      <td>578.0</td>\n",
       "      <td>16246.000000</td>\n",
       "      <td>5.900000</td>\n",
       "      <td>1</td>\n",
       "      <td>4</td>\n",
       "    </tr>\n",
       "    <tr>\n",
       "      <td>4</td>\n",
       "      <td>1368.0</td>\n",
       "      <td>NaN</td>\n",
       "      <td>13.800000</td>\n",
       "      <td>1</td>\n",
       "      <td>3</td>\n",
       "    </tr>\n",
       "    <tr>\n",
       "      <td>5</td>\n",
       "      <td>1145.0</td>\n",
       "      <td>NaN</td>\n",
       "      <td>20.000000</td>\n",
       "      <td>2</td>\n",
       "      <td>3</td>\n",
       "    </tr>\n",
       "    <tr>\n",
       "      <td>6</td>\n",
       "      <td>1078.0</td>\n",
       "      <td>2266.699951</td>\n",
       "      <td>16.400000</td>\n",
       "      <td>2</td>\n",
       "      <td>4</td>\n",
       "    </tr>\n",
       "    <tr>\n",
       "      <td>7</td>\n",
       "      <td>1094.0</td>\n",
       "      <td>2966.800049</td>\n",
       "      <td>16.299999</td>\n",
       "      <td>2</td>\n",
       "      <td>4</td>\n",
       "    </tr>\n",
       "    <tr>\n",
       "      <td>8</td>\n",
       "      <td>1237.0</td>\n",
       "      <td>4570.200195</td>\n",
       "      <td>10.500000</td>\n",
       "      <td>2</td>\n",
       "      <td>4</td>\n",
       "    </tr>\n",
       "    <tr>\n",
       "      <td>9</td>\n",
       "      <td>833.0</td>\n",
       "      <td>2830.000000</td>\n",
       "      <td>NaN</td>\n",
       "      <td>2</td>\n",
       "      <td>3</td>\n",
       "    </tr>\n",
       "  </tbody>\n",
       "</table>\n",
       "</div>"
      ],
      "text/plain": [
       "   salary         sales        roe  industry  valid\n",
       "0  1095.0  27595.000000  14.100000         1      4\n",
       "1     NaN   9958.000000  10.900000         1      3\n",
       "2     NaN   6125.899902  23.500000         1      3\n",
       "3   578.0  16246.000000   5.900000         1      4\n",
       "4  1368.0           NaN  13.800000         1      3\n",
       "5  1145.0           NaN  20.000000         2      3\n",
       "6  1078.0   2266.699951  16.400000         2      4\n",
       "7  1094.0   2966.800049  16.299999         2      4\n",
       "8  1237.0   4570.200195  10.500000         2      4\n",
       "9   833.0   2830.000000        NaN         2      3"
      ]
     },
     "execution_count": 50,
     "metadata": {},
     "output_type": "execute_result"
    }
   ],
   "source": [
    "data"
   ]
  },
  {
   "cell_type": "code",
   "execution_count": 51,
   "metadata": {},
   "outputs": [
    {
     "data": {
      "text/html": [
       "<div>\n",
       "<style scoped>\n",
       "    .dataframe tbody tr th:only-of-type {\n",
       "        vertical-align: middle;\n",
       "    }\n",
       "\n",
       "    .dataframe tbody tr th {\n",
       "        vertical-align: top;\n",
       "    }\n",
       "\n",
       "    .dataframe thead th {\n",
       "        text-align: right;\n",
       "    }\n",
       "</style>\n",
       "<table border=\"1\" class=\"dataframe\">\n",
       "  <thead>\n",
       "    <tr style=\"text-align: right;\">\n",
       "      <th></th>\n",
       "      <th>salary</th>\n",
       "      <th>sales</th>\n",
       "      <th>roe</th>\n",
       "      <th>industry</th>\n",
       "      <th>valid</th>\n",
       "    </tr>\n",
       "  </thead>\n",
       "  <tbody>\n",
       "    <tr>\n",
       "      <td>0</td>\n",
       "      <td>1095.0</td>\n",
       "      <td>27595.000000</td>\n",
       "      <td>14.100000</td>\n",
       "      <td>1</td>\n",
       "      <td>4</td>\n",
       "    </tr>\n",
       "    <tr>\n",
       "      <td>3</td>\n",
       "      <td>578.0</td>\n",
       "      <td>16246.000000</td>\n",
       "      <td>5.900000</td>\n",
       "      <td>1</td>\n",
       "      <td>4</td>\n",
       "    </tr>\n",
       "    <tr>\n",
       "      <td>6</td>\n",
       "      <td>1078.0</td>\n",
       "      <td>2266.699951</td>\n",
       "      <td>16.400000</td>\n",
       "      <td>2</td>\n",
       "      <td>4</td>\n",
       "    </tr>\n",
       "    <tr>\n",
       "      <td>7</td>\n",
       "      <td>1094.0</td>\n",
       "      <td>2966.800049</td>\n",
       "      <td>16.299999</td>\n",
       "      <td>2</td>\n",
       "      <td>4</td>\n",
       "    </tr>\n",
       "    <tr>\n",
       "      <td>8</td>\n",
       "      <td>1237.0</td>\n",
       "      <td>4570.200195</td>\n",
       "      <td>10.500000</td>\n",
       "      <td>2</td>\n",
       "      <td>4</td>\n",
       "    </tr>\n",
       "  </tbody>\n",
       "</table>\n",
       "</div>"
      ],
      "text/plain": [
       "   salary         sales        roe  industry  valid\n",
       "0  1095.0  27595.000000  14.100000         1      4\n",
       "3   578.0  16246.000000   5.900000         1      4\n",
       "6  1078.0   2266.699951  16.400000         2      4\n",
       "7  1094.0   2966.800049  16.299999         2      4\n",
       "8  1237.0   4570.200195  10.500000         2      4"
      ]
     },
     "execution_count": 51,
     "metadata": {},
     "output_type": "execute_result"
    }
   ],
   "source": [
    "data_del_row = data.dropna(axis=0)\n",
    "data_del_row"
   ]
  },
  {
   "cell_type": "code",
   "execution_count": 52,
   "metadata": {},
   "outputs": [
    {
     "data": {
      "text/html": [
       "<div>\n",
       "<style scoped>\n",
       "    .dataframe tbody tr th:only-of-type {\n",
       "        vertical-align: middle;\n",
       "    }\n",
       "\n",
       "    .dataframe tbody tr th {\n",
       "        vertical-align: top;\n",
       "    }\n",
       "\n",
       "    .dataframe thead th {\n",
       "        text-align: right;\n",
       "    }\n",
       "</style>\n",
       "<table border=\"1\" class=\"dataframe\">\n",
       "  <thead>\n",
       "    <tr style=\"text-align: right;\">\n",
       "      <th></th>\n",
       "      <th>industry</th>\n",
       "      <th>valid</th>\n",
       "    </tr>\n",
       "  </thead>\n",
       "  <tbody>\n",
       "    <tr>\n",
       "      <td>0</td>\n",
       "      <td>1</td>\n",
       "      <td>4</td>\n",
       "    </tr>\n",
       "    <tr>\n",
       "      <td>1</td>\n",
       "      <td>1</td>\n",
       "      <td>3</td>\n",
       "    </tr>\n",
       "    <tr>\n",
       "      <td>2</td>\n",
       "      <td>1</td>\n",
       "      <td>3</td>\n",
       "    </tr>\n",
       "    <tr>\n",
       "      <td>3</td>\n",
       "      <td>1</td>\n",
       "      <td>4</td>\n",
       "    </tr>\n",
       "    <tr>\n",
       "      <td>4</td>\n",
       "      <td>1</td>\n",
       "      <td>3</td>\n",
       "    </tr>\n",
       "    <tr>\n",
       "      <td>5</td>\n",
       "      <td>2</td>\n",
       "      <td>3</td>\n",
       "    </tr>\n",
       "    <tr>\n",
       "      <td>6</td>\n",
       "      <td>2</td>\n",
       "      <td>4</td>\n",
       "    </tr>\n",
       "    <tr>\n",
       "      <td>7</td>\n",
       "      <td>2</td>\n",
       "      <td>4</td>\n",
       "    </tr>\n",
       "    <tr>\n",
       "      <td>8</td>\n",
       "      <td>2</td>\n",
       "      <td>4</td>\n",
       "    </tr>\n",
       "    <tr>\n",
       "      <td>9</td>\n",
       "      <td>2</td>\n",
       "      <td>3</td>\n",
       "    </tr>\n",
       "  </tbody>\n",
       "</table>\n",
       "</div>"
      ],
      "text/plain": [
       "   industry  valid\n",
       "0         1      4\n",
       "1         1      3\n",
       "2         1      3\n",
       "3         1      4\n",
       "4         1      3\n",
       "5         2      3\n",
       "6         2      4\n",
       "7         2      4\n",
       "8         2      4\n",
       "9         2      3"
      ]
     },
     "execution_count": 52,
     "metadata": {},
     "output_type": "execute_result"
    }
   ],
   "source": [
    "data_del_col = data.dropna(axis=1)\n",
    "data_del_col"
   ]
  },
  {
   "cell_type": "code",
   "execution_count": 53,
   "metadata": {},
   "outputs": [
    {
     "data": {
      "text/html": [
       "<div>\n",
       "<style scoped>\n",
       "    .dataframe tbody tr th:only-of-type {\n",
       "        vertical-align: middle;\n",
       "    }\n",
       "\n",
       "    .dataframe tbody tr th {\n",
       "        vertical-align: top;\n",
       "    }\n",
       "\n",
       "    .dataframe thead th {\n",
       "        text-align: right;\n",
       "    }\n",
       "</style>\n",
       "<table border=\"1\" class=\"dataframe\">\n",
       "  <thead>\n",
       "    <tr style=\"text-align: right;\">\n",
       "      <th></th>\n",
       "      <th>salary</th>\n",
       "    </tr>\n",
       "  </thead>\n",
       "  <tbody>\n",
       "    <tr>\n",
       "      <td>0</td>\n",
       "      <td>1095.0</td>\n",
       "    </tr>\n",
       "    <tr>\n",
       "      <td>3</td>\n",
       "      <td>578.0</td>\n",
       "    </tr>\n",
       "    <tr>\n",
       "      <td>4</td>\n",
       "      <td>1368.0</td>\n",
       "    </tr>\n",
       "    <tr>\n",
       "      <td>5</td>\n",
       "      <td>1145.0</td>\n",
       "    </tr>\n",
       "    <tr>\n",
       "      <td>6</td>\n",
       "      <td>1078.0</td>\n",
       "    </tr>\n",
       "    <tr>\n",
       "      <td>7</td>\n",
       "      <td>1094.0</td>\n",
       "    </tr>\n",
       "    <tr>\n",
       "      <td>8</td>\n",
       "      <td>1237.0</td>\n",
       "    </tr>\n",
       "    <tr>\n",
       "      <td>9</td>\n",
       "      <td>833.0</td>\n",
       "    </tr>\n",
       "  </tbody>\n",
       "</table>\n",
       "</div>"
      ],
      "text/plain": [
       "   salary\n",
       "0  1095.0\n",
       "3   578.0\n",
       "4  1368.0\n",
       "5  1145.0\n",
       "6  1078.0\n",
       "7  1094.0\n",
       "8  1237.0\n",
       "9   833.0"
      ]
     },
     "execution_count": 53,
     "metadata": {},
     "output_type": "execute_result"
    }
   ],
   "source": [
    "data[['salary']].dropna()"
   ]
  },
  {
   "cell_type": "code",
   "execution_count": 54,
   "metadata": {},
   "outputs": [
    {
     "data": {
      "text/html": [
       "<div>\n",
       "<style scoped>\n",
       "    .dataframe tbody tr th:only-of-type {\n",
       "        vertical-align: middle;\n",
       "    }\n",
       "\n",
       "    .dataframe tbody tr th {\n",
       "        vertical-align: top;\n",
       "    }\n",
       "\n",
       "    .dataframe thead th {\n",
       "        text-align: right;\n",
       "    }\n",
       "</style>\n",
       "<table border=\"1\" class=\"dataframe\">\n",
       "  <thead>\n",
       "    <tr style=\"text-align: right;\">\n",
       "      <th></th>\n",
       "      <th>salary</th>\n",
       "      <th>sales</th>\n",
       "      <th>roe</th>\n",
       "      <th>industry</th>\n",
       "    </tr>\n",
       "  </thead>\n",
       "  <tbody>\n",
       "    <tr>\n",
       "      <td>0</td>\n",
       "      <td>1095.0</td>\n",
       "      <td>27595.000000</td>\n",
       "      <td>14.100000</td>\n",
       "      <td>1</td>\n",
       "    </tr>\n",
       "    <tr>\n",
       "      <td>3</td>\n",
       "      <td>578.0</td>\n",
       "      <td>16246.000000</td>\n",
       "      <td>5.900000</td>\n",
       "      <td>1</td>\n",
       "    </tr>\n",
       "    <tr>\n",
       "      <td>6</td>\n",
       "      <td>1078.0</td>\n",
       "      <td>2266.699951</td>\n",
       "      <td>16.400000</td>\n",
       "      <td>2</td>\n",
       "    </tr>\n",
       "    <tr>\n",
       "      <td>7</td>\n",
       "      <td>1094.0</td>\n",
       "      <td>2966.800049</td>\n",
       "      <td>16.299999</td>\n",
       "      <td>2</td>\n",
       "    </tr>\n",
       "    <tr>\n",
       "      <td>8</td>\n",
       "      <td>1237.0</td>\n",
       "      <td>4570.200195</td>\n",
       "      <td>10.500000</td>\n",
       "      <td>2</td>\n",
       "    </tr>\n",
       "  </tbody>\n",
       "</table>\n",
       "</div>"
      ],
      "text/plain": [
       "   salary         sales        roe  industry\n",
       "0  1095.0  27595.000000  14.100000         1\n",
       "3   578.0  16246.000000   5.900000         1\n",
       "6  1078.0   2266.699951  16.400000         2\n",
       "7  1094.0   2966.800049  16.299999         2\n",
       "8  1237.0   4570.200195  10.500000         2"
      ]
     },
     "execution_count": 54,
     "metadata": {},
     "output_type": "execute_result"
    }
   ],
   "source": [
    "data[['salary','sales','roe','industry']].dropna()"
   ]
  },
  {
   "cell_type": "code",
   "execution_count": 55,
   "metadata": {},
   "outputs": [
    {
     "data": {
      "text/html": [
       "<div>\n",
       "<style scoped>\n",
       "    .dataframe tbody tr th:only-of-type {\n",
       "        vertical-align: middle;\n",
       "    }\n",
       "\n",
       "    .dataframe tbody tr th {\n",
       "        vertical-align: top;\n",
       "    }\n",
       "\n",
       "    .dataframe thead th {\n",
       "        text-align: right;\n",
       "    }\n",
       "</style>\n",
       "<table border=\"1\" class=\"dataframe\">\n",
       "  <thead>\n",
       "    <tr style=\"text-align: right;\">\n",
       "      <th></th>\n",
       "      <th>industry</th>\n",
       "    </tr>\n",
       "  </thead>\n",
       "  <tbody>\n",
       "    <tr>\n",
       "      <td>0</td>\n",
       "      <td>1</td>\n",
       "    </tr>\n",
       "    <tr>\n",
       "      <td>1</td>\n",
       "      <td>1</td>\n",
       "    </tr>\n",
       "    <tr>\n",
       "      <td>2</td>\n",
       "      <td>1</td>\n",
       "    </tr>\n",
       "    <tr>\n",
       "      <td>3</td>\n",
       "      <td>1</td>\n",
       "    </tr>\n",
       "    <tr>\n",
       "      <td>4</td>\n",
       "      <td>1</td>\n",
       "    </tr>\n",
       "    <tr>\n",
       "      <td>5</td>\n",
       "      <td>2</td>\n",
       "    </tr>\n",
       "    <tr>\n",
       "      <td>6</td>\n",
       "      <td>2</td>\n",
       "    </tr>\n",
       "    <tr>\n",
       "      <td>7</td>\n",
       "      <td>2</td>\n",
       "    </tr>\n",
       "    <tr>\n",
       "      <td>8</td>\n",
       "      <td>2</td>\n",
       "    </tr>\n",
       "    <tr>\n",
       "      <td>9</td>\n",
       "      <td>2</td>\n",
       "    </tr>\n",
       "  </tbody>\n",
       "</table>\n",
       "</div>"
      ],
      "text/plain": [
       "   industry\n",
       "0         1\n",
       "1         1\n",
       "2         1\n",
       "3         1\n",
       "4         1\n",
       "5         2\n",
       "6         2\n",
       "7         2\n",
       "8         2\n",
       "9         2"
      ]
     },
     "execution_count": 55,
     "metadata": {},
     "output_type": "execute_result"
    }
   ],
   "source": [
    "data[['salary','sales','roe','industry']].dropna(axis=1)"
   ]
  },
  {
   "cell_type": "code",
   "execution_count": 56,
   "metadata": {},
   "outputs": [
    {
     "data": {
      "text/html": [
       "<div>\n",
       "<style scoped>\n",
       "    .dataframe tbody tr th:only-of-type {\n",
       "        vertical-align: middle;\n",
       "    }\n",
       "\n",
       "    .dataframe tbody tr th {\n",
       "        vertical-align: top;\n",
       "    }\n",
       "\n",
       "    .dataframe thead th {\n",
       "        text-align: right;\n",
       "    }\n",
       "</style>\n",
       "<table border=\"1\" class=\"dataframe\">\n",
       "  <thead>\n",
       "    <tr style=\"text-align: right;\">\n",
       "      <th></th>\n",
       "      <th>salary</th>\n",
       "      <th>sales</th>\n",
       "      <th>roe</th>\n",
       "      <th>industry</th>\n",
       "      <th>valid</th>\n",
       "    </tr>\n",
       "  </thead>\n",
       "  <tbody>\n",
       "    <tr>\n",
       "      <td>0</td>\n",
       "      <td>1095.0</td>\n",
       "      <td>27595.000000</td>\n",
       "      <td>14.100000</td>\n",
       "      <td>1</td>\n",
       "      <td>4</td>\n",
       "    </tr>\n",
       "    <tr>\n",
       "      <td>1</td>\n",
       "      <td>NaN</td>\n",
       "      <td>9958.000000</td>\n",
       "      <td>10.900000</td>\n",
       "      <td>1</td>\n",
       "      <td>3</td>\n",
       "    </tr>\n",
       "    <tr>\n",
       "      <td>2</td>\n",
       "      <td>NaN</td>\n",
       "      <td>6125.899902</td>\n",
       "      <td>23.500000</td>\n",
       "      <td>1</td>\n",
       "      <td>3</td>\n",
       "    </tr>\n",
       "    <tr>\n",
       "      <td>3</td>\n",
       "      <td>578.0</td>\n",
       "      <td>16246.000000</td>\n",
       "      <td>5.900000</td>\n",
       "      <td>1</td>\n",
       "      <td>4</td>\n",
       "    </tr>\n",
       "    <tr>\n",
       "      <td>4</td>\n",
       "      <td>1368.0</td>\n",
       "      <td>NaN</td>\n",
       "      <td>13.800000</td>\n",
       "      <td>1</td>\n",
       "      <td>3</td>\n",
       "    </tr>\n",
       "    <tr>\n",
       "      <td>5</td>\n",
       "      <td>1145.0</td>\n",
       "      <td>NaN</td>\n",
       "      <td>20.000000</td>\n",
       "      <td>2</td>\n",
       "      <td>3</td>\n",
       "    </tr>\n",
       "    <tr>\n",
       "      <td>6</td>\n",
       "      <td>1078.0</td>\n",
       "      <td>2266.699951</td>\n",
       "      <td>16.400000</td>\n",
       "      <td>2</td>\n",
       "      <td>4</td>\n",
       "    </tr>\n",
       "    <tr>\n",
       "      <td>7</td>\n",
       "      <td>1094.0</td>\n",
       "      <td>2966.800049</td>\n",
       "      <td>16.299999</td>\n",
       "      <td>2</td>\n",
       "      <td>4</td>\n",
       "    </tr>\n",
       "    <tr>\n",
       "      <td>8</td>\n",
       "      <td>1237.0</td>\n",
       "      <td>4570.200195</td>\n",
       "      <td>10.500000</td>\n",
       "      <td>2</td>\n",
       "      <td>4</td>\n",
       "    </tr>\n",
       "    <tr>\n",
       "      <td>9</td>\n",
       "      <td>833.0</td>\n",
       "      <td>2830.000000</td>\n",
       "      <td>NaN</td>\n",
       "      <td>2</td>\n",
       "      <td>3</td>\n",
       "    </tr>\n",
       "  </tbody>\n",
       "</table>\n",
       "</div>"
      ],
      "text/plain": [
       "   salary         sales        roe  industry  valid\n",
       "0  1095.0  27595.000000  14.100000         1      4\n",
       "1     NaN   9958.000000  10.900000         1      3\n",
       "2     NaN   6125.899902  23.500000         1      3\n",
       "3   578.0  16246.000000   5.900000         1      4\n",
       "4  1368.0           NaN  13.800000         1      3\n",
       "5  1145.0           NaN  20.000000         2      3\n",
       "6  1078.0   2266.699951  16.400000         2      4\n",
       "7  1094.0   2966.800049  16.299999         2      4\n",
       "8  1237.0   4570.200195  10.500000         2      4\n",
       "9   833.0   2830.000000        NaN         2      3"
      ]
     },
     "execution_count": 56,
     "metadata": {},
     "output_type": "execute_result"
    }
   ],
   "source": [
    "data"
   ]
  },
  {
   "cell_type": "code",
   "execution_count": 57,
   "metadata": {},
   "outputs": [
    {
     "data": {
      "text/html": [
       "<div>\n",
       "<style scoped>\n",
       "    .dataframe tbody tr th:only-of-type {\n",
       "        vertical-align: middle;\n",
       "    }\n",
       "\n",
       "    .dataframe tbody tr th {\n",
       "        vertical-align: top;\n",
       "    }\n",
       "\n",
       "    .dataframe thead th {\n",
       "        text-align: right;\n",
       "    }\n",
       "</style>\n",
       "<table border=\"1\" class=\"dataframe\">\n",
       "  <thead>\n",
       "    <tr style=\"text-align: right;\">\n",
       "      <th></th>\n",
       "      <th>salary</th>\n",
       "      <th>sales</th>\n",
       "      <th>roe</th>\n",
       "      <th>industry</th>\n",
       "    </tr>\n",
       "  </thead>\n",
       "  <tbody>\n",
       "    <tr>\n",
       "      <td>0</td>\n",
       "      <td>1095.0</td>\n",
       "      <td>27595.000000</td>\n",
       "      <td>14.100000</td>\n",
       "      <td>1</td>\n",
       "    </tr>\n",
       "    <tr>\n",
       "      <td>1</td>\n",
       "      <td>NaN</td>\n",
       "      <td>9958.000000</td>\n",
       "      <td>10.900000</td>\n",
       "      <td>1</td>\n",
       "    </tr>\n",
       "    <tr>\n",
       "      <td>2</td>\n",
       "      <td>NaN</td>\n",
       "      <td>6125.899902</td>\n",
       "      <td>23.500000</td>\n",
       "      <td>1</td>\n",
       "    </tr>\n",
       "    <tr>\n",
       "      <td>3</td>\n",
       "      <td>578.0</td>\n",
       "      <td>16246.000000</td>\n",
       "      <td>5.900000</td>\n",
       "      <td>1</td>\n",
       "    </tr>\n",
       "    <tr>\n",
       "      <td>4</td>\n",
       "      <td>1368.0</td>\n",
       "      <td>NaN</td>\n",
       "      <td>13.800000</td>\n",
       "      <td>1</td>\n",
       "    </tr>\n",
       "    <tr>\n",
       "      <td>5</td>\n",
       "      <td>1145.0</td>\n",
       "      <td>NaN</td>\n",
       "      <td>20.000000</td>\n",
       "      <td>2</td>\n",
       "    </tr>\n",
       "    <tr>\n",
       "      <td>6</td>\n",
       "      <td>1078.0</td>\n",
       "      <td>2266.699951</td>\n",
       "      <td>16.400000</td>\n",
       "      <td>2</td>\n",
       "    </tr>\n",
       "    <tr>\n",
       "      <td>7</td>\n",
       "      <td>1094.0</td>\n",
       "      <td>2966.800049</td>\n",
       "      <td>16.299999</td>\n",
       "      <td>2</td>\n",
       "    </tr>\n",
       "    <tr>\n",
       "      <td>8</td>\n",
       "      <td>1237.0</td>\n",
       "      <td>4570.200195</td>\n",
       "      <td>10.500000</td>\n",
       "      <td>2</td>\n",
       "    </tr>\n",
       "    <tr>\n",
       "      <td>9</td>\n",
       "      <td>833.0</td>\n",
       "      <td>2830.000000</td>\n",
       "      <td>NaN</td>\n",
       "      <td>2</td>\n",
       "    </tr>\n",
       "  </tbody>\n",
       "</table>\n",
       "</div>"
      ],
      "text/plain": [
       "   salary         sales        roe  industry\n",
       "0  1095.0  27595.000000  14.100000         1\n",
       "1     NaN   9958.000000  10.900000         1\n",
       "2     NaN   6125.899902  23.500000         1\n",
       "3   578.0  16246.000000   5.900000         1\n",
       "4  1368.0           NaN  13.800000         1\n",
       "5  1145.0           NaN  20.000000         2\n",
       "6  1078.0   2266.699951  16.400000         2\n",
       "7  1094.0   2966.800049  16.299999         2\n",
       "8  1237.0   4570.200195  10.500000         2\n",
       "9   833.0   2830.000000        NaN         2"
      ]
     },
     "execution_count": 57,
     "metadata": {},
     "output_type": "execute_result"
    }
   ],
   "source": [
    "data = pd.read_csv('/Users/kwonsuhyun/python/bigdata/data/Ex_Missing.csv')\n",
    "data"
   ]
  },
  {
   "cell_type": "code",
   "execution_count": 58,
   "metadata": {},
   "outputs": [
    {
     "data": {
      "text/html": [
       "<div>\n",
       "<style scoped>\n",
       "    .dataframe tbody tr th:only-of-type {\n",
       "        vertical-align: middle;\n",
       "    }\n",
       "\n",
       "    .dataframe tbody tr th {\n",
       "        vertical-align: top;\n",
       "    }\n",
       "\n",
       "    .dataframe thead th {\n",
       "        text-align: right;\n",
       "    }\n",
       "</style>\n",
       "<table border=\"1\" class=\"dataframe\">\n",
       "  <thead>\n",
       "    <tr style=\"text-align: right;\">\n",
       "      <th></th>\n",
       "      <th>salary</th>\n",
       "      <th>sales</th>\n",
       "      <th>roe</th>\n",
       "      <th>industry</th>\n",
       "    </tr>\n",
       "  </thead>\n",
       "  <tbody>\n",
       "    <tr>\n",
       "      <td>0</td>\n",
       "      <td>1095.0</td>\n",
       "      <td>27595.000000</td>\n",
       "      <td>14.100000</td>\n",
       "      <td>1</td>\n",
       "    </tr>\n",
       "    <tr>\n",
       "      <td>1</td>\n",
       "      <td>0.0</td>\n",
       "      <td>9958.000000</td>\n",
       "      <td>10.900000</td>\n",
       "      <td>1</td>\n",
       "    </tr>\n",
       "    <tr>\n",
       "      <td>2</td>\n",
       "      <td>0.0</td>\n",
       "      <td>6125.899902</td>\n",
       "      <td>23.500000</td>\n",
       "      <td>1</td>\n",
       "    </tr>\n",
       "    <tr>\n",
       "      <td>3</td>\n",
       "      <td>578.0</td>\n",
       "      <td>16246.000000</td>\n",
       "      <td>5.900000</td>\n",
       "      <td>1</td>\n",
       "    </tr>\n",
       "    <tr>\n",
       "      <td>4</td>\n",
       "      <td>1368.0</td>\n",
       "      <td>0.000000</td>\n",
       "      <td>13.800000</td>\n",
       "      <td>1</td>\n",
       "    </tr>\n",
       "    <tr>\n",
       "      <td>5</td>\n",
       "      <td>1145.0</td>\n",
       "      <td>0.000000</td>\n",
       "      <td>20.000000</td>\n",
       "      <td>2</td>\n",
       "    </tr>\n",
       "    <tr>\n",
       "      <td>6</td>\n",
       "      <td>1078.0</td>\n",
       "      <td>2266.699951</td>\n",
       "      <td>16.400000</td>\n",
       "      <td>2</td>\n",
       "    </tr>\n",
       "    <tr>\n",
       "      <td>7</td>\n",
       "      <td>1094.0</td>\n",
       "      <td>2966.800049</td>\n",
       "      <td>16.299999</td>\n",
       "      <td>2</td>\n",
       "    </tr>\n",
       "    <tr>\n",
       "      <td>8</td>\n",
       "      <td>1237.0</td>\n",
       "      <td>4570.200195</td>\n",
       "      <td>10.500000</td>\n",
       "      <td>2</td>\n",
       "    </tr>\n",
       "    <tr>\n",
       "      <td>9</td>\n",
       "      <td>833.0</td>\n",
       "      <td>2830.000000</td>\n",
       "      <td>0.000000</td>\n",
       "      <td>2</td>\n",
       "    </tr>\n",
       "  </tbody>\n",
       "</table>\n",
       "</div>"
      ],
      "text/plain": [
       "   salary         sales        roe  industry\n",
       "0  1095.0  27595.000000  14.100000         1\n",
       "1     0.0   9958.000000  10.900000         1\n",
       "2     0.0   6125.899902  23.500000         1\n",
       "3   578.0  16246.000000   5.900000         1\n",
       "4  1368.0      0.000000  13.800000         1\n",
       "5  1145.0      0.000000  20.000000         2\n",
       "6  1078.0   2266.699951  16.400000         2\n",
       "7  1094.0   2966.800049  16.299999         2\n",
       "8  1237.0   4570.200195  10.500000         2\n",
       "9   833.0   2830.000000   0.000000         2"
      ]
     },
     "execution_count": 58,
     "metadata": {},
     "output_type": "execute_result"
    }
   ],
   "source": [
    "data_0 = data.fillna(0)\n",
    "data_0"
   ]
  },
  {
   "cell_type": "code",
   "execution_count": 59,
   "metadata": {},
   "outputs": [
    {
     "data": {
      "text/html": [
       "<div>\n",
       "<style scoped>\n",
       "    .dataframe tbody tr th:only-of-type {\n",
       "        vertical-align: middle;\n",
       "    }\n",
       "\n",
       "    .dataframe tbody tr th {\n",
       "        vertical-align: top;\n",
       "    }\n",
       "\n",
       "    .dataframe thead th {\n",
       "        text-align: right;\n",
       "    }\n",
       "</style>\n",
       "<table border=\"1\" class=\"dataframe\">\n",
       "  <thead>\n",
       "    <tr style=\"text-align: right;\">\n",
       "      <th></th>\n",
       "      <th>salary</th>\n",
       "      <th>sales</th>\n",
       "      <th>roe</th>\n",
       "    </tr>\n",
       "    <tr>\n",
       "      <th>industry</th>\n",
       "      <th></th>\n",
       "      <th></th>\n",
       "      <th></th>\n",
       "    </tr>\n",
       "  </thead>\n",
       "  <tbody>\n",
       "    <tr>\n",
       "      <td>1</td>\n",
       "      <td>1013.666667</td>\n",
       "      <td>14981.224975</td>\n",
       "      <td>13.64</td>\n",
       "    </tr>\n",
       "    <tr>\n",
       "      <td>2</td>\n",
       "      <td>1077.400000</td>\n",
       "      <td>3158.425049</td>\n",
       "      <td>15.80</td>\n",
       "    </tr>\n",
       "  </tbody>\n",
       "</table>\n",
       "</div>"
      ],
      "text/plain": [
       "               salary         sales    roe\n",
       "industry                                  \n",
       "1         1013.666667  14981.224975  13.64\n",
       "2         1077.400000   3158.425049  15.80"
      ]
     },
     "execution_count": 59,
     "metadata": {},
     "output_type": "execute_result"
    }
   ],
   "source": [
    "data.groupby('industry').mean()"
   ]
  },
  {
   "cell_type": "code",
   "execution_count": 62,
   "metadata": {},
   "outputs": [],
   "source": [
    "fill_mean_func = lambda g: g.fillna(g.mean())"
   ]
  },
  {
   "cell_type": "code",
   "execution_count": 63,
   "metadata": {},
   "outputs": [
    {
     "data": {
      "text/html": [
       "<div>\n",
       "<style scoped>\n",
       "    .dataframe tbody tr th:only-of-type {\n",
       "        vertical-align: middle;\n",
       "    }\n",
       "\n",
       "    .dataframe tbody tr th {\n",
       "        vertical-align: top;\n",
       "    }\n",
       "\n",
       "    .dataframe thead th {\n",
       "        text-align: right;\n",
       "    }\n",
       "</style>\n",
       "<table border=\"1\" class=\"dataframe\">\n",
       "  <thead>\n",
       "    <tr style=\"text-align: right;\">\n",
       "      <th></th>\n",
       "      <th></th>\n",
       "      <th>salary</th>\n",
       "      <th>sales</th>\n",
       "      <th>roe</th>\n",
       "      <th>industry</th>\n",
       "    </tr>\n",
       "    <tr>\n",
       "      <th>industry</th>\n",
       "      <th></th>\n",
       "      <th></th>\n",
       "      <th></th>\n",
       "      <th></th>\n",
       "      <th></th>\n",
       "    </tr>\n",
       "  </thead>\n",
       "  <tbody>\n",
       "    <tr>\n",
       "      <td rowspan=\"5\" valign=\"top\">1</td>\n",
       "      <td>0</td>\n",
       "      <td>1095.000000</td>\n",
       "      <td>27595.000000</td>\n",
       "      <td>14.100000</td>\n",
       "      <td>1</td>\n",
       "    </tr>\n",
       "    <tr>\n",
       "      <td>1</td>\n",
       "      <td>1013.666667</td>\n",
       "      <td>9958.000000</td>\n",
       "      <td>10.900000</td>\n",
       "      <td>1</td>\n",
       "    </tr>\n",
       "    <tr>\n",
       "      <td>2</td>\n",
       "      <td>1013.666667</td>\n",
       "      <td>6125.899902</td>\n",
       "      <td>23.500000</td>\n",
       "      <td>1</td>\n",
       "    </tr>\n",
       "    <tr>\n",
       "      <td>3</td>\n",
       "      <td>578.000000</td>\n",
       "      <td>16246.000000</td>\n",
       "      <td>5.900000</td>\n",
       "      <td>1</td>\n",
       "    </tr>\n",
       "    <tr>\n",
       "      <td>4</td>\n",
       "      <td>1368.000000</td>\n",
       "      <td>14981.224975</td>\n",
       "      <td>13.800000</td>\n",
       "      <td>1</td>\n",
       "    </tr>\n",
       "    <tr>\n",
       "      <td rowspan=\"5\" valign=\"top\">2</td>\n",
       "      <td>5</td>\n",
       "      <td>1145.000000</td>\n",
       "      <td>3158.425049</td>\n",
       "      <td>20.000000</td>\n",
       "      <td>2</td>\n",
       "    </tr>\n",
       "    <tr>\n",
       "      <td>6</td>\n",
       "      <td>1078.000000</td>\n",
       "      <td>2266.699951</td>\n",
       "      <td>16.400000</td>\n",
       "      <td>2</td>\n",
       "    </tr>\n",
       "    <tr>\n",
       "      <td>7</td>\n",
       "      <td>1094.000000</td>\n",
       "      <td>2966.800049</td>\n",
       "      <td>16.299999</td>\n",
       "      <td>2</td>\n",
       "    </tr>\n",
       "    <tr>\n",
       "      <td>8</td>\n",
       "      <td>1237.000000</td>\n",
       "      <td>4570.200195</td>\n",
       "      <td>10.500000</td>\n",
       "      <td>2</td>\n",
       "    </tr>\n",
       "    <tr>\n",
       "      <td>9</td>\n",
       "      <td>833.000000</td>\n",
       "      <td>2830.000000</td>\n",
       "      <td>15.800000</td>\n",
       "      <td>2</td>\n",
       "    </tr>\n",
       "  </tbody>\n",
       "</table>\n",
       "</div>"
      ],
      "text/plain": [
       "                 salary         sales        roe  industry\n",
       "industry                                                  \n",
       "1        0  1095.000000  27595.000000  14.100000         1\n",
       "         1  1013.666667   9958.000000  10.900000         1\n",
       "         2  1013.666667   6125.899902  23.500000         1\n",
       "         3   578.000000  16246.000000   5.900000         1\n",
       "         4  1368.000000  14981.224975  13.800000         1\n",
       "2        5  1145.000000   3158.425049  20.000000         2\n",
       "         6  1078.000000   2266.699951  16.400000         2\n",
       "         7  1094.000000   2966.800049  16.299999         2\n",
       "         8  1237.000000   4570.200195  10.500000         2\n",
       "         9   833.000000   2830.000000  15.800000         2"
      ]
     },
     "execution_count": 63,
     "metadata": {},
     "output_type": "execute_result"
    }
   ],
   "source": [
    "data_group_mean = data.groupby('industry').apply(fill_mean_func)\n",
    "data_group_mean"
   ]
  },
  {
   "cell_type": "code",
   "execution_count": 64,
   "metadata": {},
   "outputs": [],
   "source": [
    "fill_values = {1:1000,2:2000}\n",
    "fill_func = lambda d: d.fillna(fill_values[d.name])"
   ]
  },
  {
   "cell_type": "code",
   "execution_count": 65,
   "metadata": {
    "scrolled": true
   },
   "outputs": [
    {
     "data": {
      "text/html": [
       "<div>\n",
       "<style scoped>\n",
       "    .dataframe tbody tr th:only-of-type {\n",
       "        vertical-align: middle;\n",
       "    }\n",
       "\n",
       "    .dataframe tbody tr th {\n",
       "        vertical-align: top;\n",
       "    }\n",
       "\n",
       "    .dataframe thead th {\n",
       "        text-align: right;\n",
       "    }\n",
       "</style>\n",
       "<table border=\"1\" class=\"dataframe\">\n",
       "  <thead>\n",
       "    <tr style=\"text-align: right;\">\n",
       "      <th></th>\n",
       "      <th>salary</th>\n",
       "      <th>sales</th>\n",
       "      <th>roe</th>\n",
       "      <th>industry</th>\n",
       "    </tr>\n",
       "  </thead>\n",
       "  <tbody>\n",
       "    <tr>\n",
       "      <td>0</td>\n",
       "      <td>1095.0</td>\n",
       "      <td>27595.000000</td>\n",
       "      <td>14.100000</td>\n",
       "      <td>1</td>\n",
       "    </tr>\n",
       "    <tr>\n",
       "      <td>1</td>\n",
       "      <td>1000.0</td>\n",
       "      <td>9958.000000</td>\n",
       "      <td>10.900000</td>\n",
       "      <td>1</td>\n",
       "    </tr>\n",
       "    <tr>\n",
       "      <td>2</td>\n",
       "      <td>1000.0</td>\n",
       "      <td>6125.899902</td>\n",
       "      <td>23.500000</td>\n",
       "      <td>1</td>\n",
       "    </tr>\n",
       "    <tr>\n",
       "      <td>3</td>\n",
       "      <td>578.0</td>\n",
       "      <td>16246.000000</td>\n",
       "      <td>5.900000</td>\n",
       "      <td>1</td>\n",
       "    </tr>\n",
       "    <tr>\n",
       "      <td>4</td>\n",
       "      <td>1368.0</td>\n",
       "      <td>1000.000000</td>\n",
       "      <td>13.800000</td>\n",
       "      <td>1</td>\n",
       "    </tr>\n",
       "    <tr>\n",
       "      <td>5</td>\n",
       "      <td>1145.0</td>\n",
       "      <td>2000.000000</td>\n",
       "      <td>20.000000</td>\n",
       "      <td>2</td>\n",
       "    </tr>\n",
       "    <tr>\n",
       "      <td>6</td>\n",
       "      <td>1078.0</td>\n",
       "      <td>2266.699951</td>\n",
       "      <td>16.400000</td>\n",
       "      <td>2</td>\n",
       "    </tr>\n",
       "    <tr>\n",
       "      <td>7</td>\n",
       "      <td>1094.0</td>\n",
       "      <td>2966.800049</td>\n",
       "      <td>16.299999</td>\n",
       "      <td>2</td>\n",
       "    </tr>\n",
       "    <tr>\n",
       "      <td>8</td>\n",
       "      <td>1237.0</td>\n",
       "      <td>4570.200195</td>\n",
       "      <td>10.500000</td>\n",
       "      <td>2</td>\n",
       "    </tr>\n",
       "    <tr>\n",
       "      <td>9</td>\n",
       "      <td>833.0</td>\n",
       "      <td>2830.000000</td>\n",
       "      <td>2000.000000</td>\n",
       "      <td>2</td>\n",
       "    </tr>\n",
       "  </tbody>\n",
       "</table>\n",
       "</div>"
      ],
      "text/plain": [
       "   salary         sales          roe  industry\n",
       "0  1095.0  27595.000000    14.100000         1\n",
       "1  1000.0   9958.000000    10.900000         1\n",
       "2  1000.0   6125.899902    23.500000         1\n",
       "3   578.0  16246.000000     5.900000         1\n",
       "4  1368.0   1000.000000    13.800000         1\n",
       "5  1145.0   2000.000000    20.000000         2\n",
       "6  1078.0   2266.699951    16.400000         2\n",
       "7  1094.0   2966.800049    16.299999         2\n",
       "8  1237.0   4570.200195    10.500000         2\n",
       "9   833.0   2830.000000  2000.000000         2"
      ]
     },
     "execution_count": 65,
     "metadata": {},
     "output_type": "execute_result"
    }
   ],
   "source": [
    "data_group_value = data.groupby('industry').apply(fill_func)\n",
    "data_group_value"
   ]
  },
  {
   "cell_type": "code",
   "execution_count": null,
   "metadata": {},
   "outputs": [],
   "source": []
  },
  {
   "cell_type": "code",
   "execution_count": null,
   "metadata": {},
   "outputs": [],
   "source": []
  },
  {
   "cell_type": "markdown",
   "metadata": {},
   "source": [
    "section06"
   ]
  },
  {
   "cell_type": "code",
   "execution_count": 66,
   "metadata": {},
   "outputs": [
    {
     "data": {
      "text/html": [
       "<div>\n",
       "<style scoped>\n",
       "    .dataframe tbody tr th:only-of-type {\n",
       "        vertical-align: middle;\n",
       "    }\n",
       "\n",
       "    .dataframe tbody tr th {\n",
       "        vertical-align: top;\n",
       "    }\n",
       "\n",
       "    .dataframe thead th {\n",
       "        text-align: right;\n",
       "    }\n",
       "</style>\n",
       "<table border=\"1\" class=\"dataframe\">\n",
       "  <thead>\n",
       "    <tr style=\"text-align: right;\">\n",
       "      <th></th>\n",
       "      <th>housing_age</th>\n",
       "      <th>income</th>\n",
       "      <th>bedrooms</th>\n",
       "      <th>households</th>\n",
       "      <th>rooms</th>\n",
       "      <th>house_value</th>\n",
       "    </tr>\n",
       "  </thead>\n",
       "  <tbody>\n",
       "    <tr>\n",
       "      <td>0</td>\n",
       "      <td>23</td>\n",
       "      <td>6.7770</td>\n",
       "      <td>0.141112</td>\n",
       "      <td>2.442244</td>\n",
       "      <td>8.103960</td>\n",
       "      <td>500000</td>\n",
       "    </tr>\n",
       "    <tr>\n",
       "      <td>1</td>\n",
       "      <td>49</td>\n",
       "      <td>6.0199</td>\n",
       "      <td>0.160984</td>\n",
       "      <td>2.726688</td>\n",
       "      <td>5.752412</td>\n",
       "      <td>500000</td>\n",
       "    </tr>\n",
       "    <tr>\n",
       "      <td>2</td>\n",
       "      <td>35</td>\n",
       "      <td>5.1155</td>\n",
       "      <td>0.249061</td>\n",
       "      <td>1.902676</td>\n",
       "      <td>3.888078</td>\n",
       "      <td>500000</td>\n",
       "    </tr>\n",
       "    <tr>\n",
       "      <td>3</td>\n",
       "      <td>32</td>\n",
       "      <td>4.7109</td>\n",
       "      <td>0.231383</td>\n",
       "      <td>1.913669</td>\n",
       "      <td>4.508393</td>\n",
       "      <td>500000</td>\n",
       "    </tr>\n",
       "    <tr>\n",
       "      <td>4</td>\n",
       "      <td>21</td>\n",
       "      <td>4.5625</td>\n",
       "      <td>0.255583</td>\n",
       "      <td>3.092664</td>\n",
       "      <td>4.667954</td>\n",
       "      <td>500000</td>\n",
       "    </tr>\n",
       "  </tbody>\n",
       "</table>\n",
       "</div>"
      ],
      "text/plain": [
       "   housing_age  income  bedrooms  households     rooms  house_value\n",
       "0           23  6.7770  0.141112    2.442244  8.103960       500000\n",
       "1           49  6.0199  0.160984    2.726688  5.752412       500000\n",
       "2           35  5.1155  0.249061    1.902676  3.888078       500000\n",
       "3           32  4.7109  0.231383    1.913669  4.508393       500000\n",
       "4           21  4.5625  0.255583    3.092664  4.667954       500000"
      ]
     },
     "execution_count": 66,
     "metadata": {},
     "output_type": "execute_result"
    }
   ],
   "source": [
    "import pandas as pd\n",
    "data = pd.read_csv('/Users/kwonsuhyun/python/bigdata/data/house_raw.csv')\n",
    "data.head()"
   ]
  },
  {
   "cell_type": "code",
   "execution_count": 67,
   "metadata": {},
   "outputs": [
    {
     "data": {
      "text/html": [
       "<div>\n",
       "<style scoped>\n",
       "    .dataframe tbody tr th:only-of-type {\n",
       "        vertical-align: middle;\n",
       "    }\n",
       "\n",
       "    .dataframe tbody tr th {\n",
       "        vertical-align: top;\n",
       "    }\n",
       "\n",
       "    .dataframe thead th {\n",
       "        text-align: right;\n",
       "    }\n",
       "</style>\n",
       "<table border=\"1\" class=\"dataframe\">\n",
       "  <thead>\n",
       "    <tr style=\"text-align: right;\">\n",
       "      <th></th>\n",
       "      <th>housing_age</th>\n",
       "      <th>income</th>\n",
       "      <th>bedrooms</th>\n",
       "      <th>households</th>\n",
       "      <th>rooms</th>\n",
       "      <th>house_value</th>\n",
       "    </tr>\n",
       "  </thead>\n",
       "  <tbody>\n",
       "    <tr>\n",
       "      <td>count</td>\n",
       "      <td>17914.000000</td>\n",
       "      <td>17914.000000</td>\n",
       "      <td>17914.000000</td>\n",
       "      <td>17914.000000</td>\n",
       "      <td>17914.000000</td>\n",
       "      <td>17914.000000</td>\n",
       "    </tr>\n",
       "    <tr>\n",
       "      <td>mean</td>\n",
       "      <td>27.307022</td>\n",
       "      <td>3.664086</td>\n",
       "      <td>0.214309</td>\n",
       "      <td>3.007667</td>\n",
       "      <td>5.370672</td>\n",
       "      <td>188692.620130</td>\n",
       "    </tr>\n",
       "    <tr>\n",
       "      <td>std</td>\n",
       "      <td>11.297204</td>\n",
       "      <td>1.526694</td>\n",
       "      <td>0.055251</td>\n",
       "      <td>4.579534</td>\n",
       "      <td>2.332776</td>\n",
       "      <td>95318.621139</td>\n",
       "    </tr>\n",
       "    <tr>\n",
       "      <td>min</td>\n",
       "      <td>1.000000</td>\n",
       "      <td>0.499900</td>\n",
       "      <td>0.100000</td>\n",
       "      <td>0.692308</td>\n",
       "      <td>0.846154</td>\n",
       "      <td>14999.000000</td>\n",
       "    </tr>\n",
       "    <tr>\n",
       "      <td>25%</td>\n",
       "      <td>18.000000</td>\n",
       "      <td>2.526125</td>\n",
       "      <td>0.177544</td>\n",
       "      <td>2.467031</td>\n",
       "      <td>4.426115</td>\n",
       "      <td>114325.000000</td>\n",
       "    </tr>\n",
       "    <tr>\n",
       "      <td>50%</td>\n",
       "      <td>28.000000</td>\n",
       "      <td>3.447800</td>\n",
       "      <td>0.204256</td>\n",
       "      <td>2.853499</td>\n",
       "      <td>5.199222</td>\n",
       "      <td>170800.000000</td>\n",
       "    </tr>\n",
       "    <tr>\n",
       "      <td>75%</td>\n",
       "      <td>36.000000</td>\n",
       "      <td>4.583300</td>\n",
       "      <td>0.240476</td>\n",
       "      <td>3.318866</td>\n",
       "      <td>5.970848</td>\n",
       "      <td>242100.000000</td>\n",
       "    </tr>\n",
       "    <tr>\n",
       "      <td>max</td>\n",
       "      <td>51.000000</td>\n",
       "      <td>9.905500</td>\n",
       "      <td>1.000000</td>\n",
       "      <td>599.714286</td>\n",
       "      <td>132.533333</td>\n",
       "      <td>500000.000000</td>\n",
       "    </tr>\n",
       "  </tbody>\n",
       "</table>\n",
       "</div>"
      ],
      "text/plain": [
       "        housing_age        income      bedrooms    households         rooms  \\\n",
       "count  17914.000000  17914.000000  17914.000000  17914.000000  17914.000000   \n",
       "mean      27.307022      3.664086      0.214309      3.007667      5.370672   \n",
       "std       11.297204      1.526694      0.055251      4.579534      2.332776   \n",
       "min        1.000000      0.499900      0.100000      0.692308      0.846154   \n",
       "25%       18.000000      2.526125      0.177544      2.467031      4.426115   \n",
       "50%       28.000000      3.447800      0.204256      2.853499      5.199222   \n",
       "75%       36.000000      4.583300      0.240476      3.318866      5.970848   \n",
       "max       51.000000      9.905500      1.000000    599.714286    132.533333   \n",
       "\n",
       "         house_value  \n",
       "count   17914.000000  \n",
       "mean   188692.620130  \n",
       "std     95318.621139  \n",
       "min     14999.000000  \n",
       "25%    114325.000000  \n",
       "50%    170800.000000  \n",
       "75%    242100.000000  \n",
       "max    500000.000000  "
      ]
     },
     "execution_count": 67,
     "metadata": {},
     "output_type": "execute_result"
    }
   ],
   "source": [
    "data.describe()"
   ]
  },
  {
   "cell_type": "code",
   "execution_count": 70,
   "metadata": {},
   "outputs": [
    {
     "data": {
      "text/plain": [
       "array([[<matplotlib.axes._subplots.AxesSubplot object at 0x7fed6fb9aa10>,\n",
       "        <matplotlib.axes._subplots.AxesSubplot object at 0x7fed6fb8cc90>],\n",
       "       [<matplotlib.axes._subplots.AxesSubplot object at 0x7fed6fbe98d0>,\n",
       "        <matplotlib.axes._subplots.AxesSubplot object at 0x7fed30031f90>],\n",
       "       [<matplotlib.axes._subplots.AxesSubplot object at 0x7fed3007ddd0>,\n",
       "        <matplotlib.axes._subplots.AxesSubplot object at 0x7fed30085650>]],\n",
       "      dtype=object)"
      ]
     },
     "execution_count": 70,
     "metadata": {},
     "output_type": "execute_result"
    },
    {
     "data": {
      "image/png": "[encoded data removed]",
      "text/plain": [
       "<Figure size 432x288 with 6 Axes>"
      ]
     },
     "metadata": {
      "needs_background": "light"
     },
     "output_type": "display_data"
    }
   ],
   "source": [
    "data.hist()"
   ]
  },
  {
   "cell_type": "code",
   "execution_count": null,
   "metadata": {},
   "outputs": [],
   "source": []
  }
 ],
 "metadata": {
  "kernelspec": {
   "display_name": "Python 3",
   "language": "python",
   "name": "python3"
  },
  "language_info": {
   "codemirror_mode": {
    "name": "ipython",
    "version": 3
   },
   "file_extension": ".py",
   "mimetype": "text/x-python",
   "name": "python",
   "nbconvert_exporter": "python",
   "pygments_lexer": "ipython3",
   "version": "3.7.4"
  }
 },
 "nbformat": 4,
 "nbformat_minor": 2
}
